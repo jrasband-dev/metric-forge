{
 "cells": [
  {
   "cell_type": "markdown",
   "metadata": {},
   "source": [
    "## Finance\n",
    "\n",
    "The Finance module contains financial statement objects that you can call certain methods off of to get key financial metrics. You need to define these objects prior to running calcuations. "
   ]
  },
  {
   "cell_type": "markdown",
   "metadata": {},
   "source": [
    "### Financial Statement Objects"
   ]
  },
  {
   "cell_type": "code",
   "execution_count": null,
   "metadata": {},
   "outputs": [
    {
     "data": {
      "text/html": [
       "<h2>Income Statement</h2>"
      ],
      "text/plain": [
       "<IPython.core.display.HTML object>"
      ]
     },
     "metadata": {},
     "output_type": "display_data"
    },
    {
     "data": {
      "text/html": [
       "<div><style>\n",
       ".dataframe > thead > tr,\n",
       ".dataframe > tbody > tr {\n",
       "  text-align: right;\n",
       "  white-space: pre-wrap;\n",
       "}\n",
       "</style>\n",
       "<small>shape: (5, 49)</small><table border=\"1\" class=\"dataframe\"><thead><tr><th>date</th><th>Tax Effect Of Unusual Items</th><th>Tax Rate For Calcs</th><th>Normalized EBITDA</th><th>Total Unusual Items</th><th>Total Unusual Items Excluding Goodwill</th><th>Net Income From Continuing Operation Net Minority Interest</th><th>Reconciled Depreciation</th><th>Reconciled Cost Of Revenue</th><th>EBITDA</th><th>EBIT</th><th>Net Interest Income</th><th>Interest Expense</th><th>Interest Income</th><th>Normalized Income</th><th>Net Income From Continuing And Discontinued Operation</th><th>Total Expenses</th><th>Total Operating Income As Reported</th><th>Diluted Average Shares</th><th>Basic Average Shares</th><th>Diluted EPS</th><th>Basic EPS</th><th>Diluted NI Availto Com Stockholders</th><th>Net Income Common Stockholders</th><th>Net Income</th><th>Net Income Including Noncontrolling Interests</th><th>Net Income Continuous Operations</th><th>Tax Provision</th><th>Pretax Income</th><th>Other Income Expense</th><th>Other Non Operating Income Expenses</th><th>Special Income Charges</th><th>Other Special Charges</th><th>Restructuring And Mergern Acquisition</th><th>Earnings From Equity Interest</th><th>Net Non Operating Interest Income Expense</th><th>Interest Expense Non Operating</th><th>Interest Income Non Operating</th><th>Operating Income</th><th>Operating Expense</th><th>Depreciation Amortization Depletion Income Statement</th><th>Depreciation And Amortization In Income Statement</th><th>Selling General And Administration</th><th>General And Administrative Expense</th><th>Other Gand A</th><th>Gross Profit</th><th>Cost Of Revenue</th><th>Total Revenue</th><th>Operating Revenue</th></tr><tr><td>str</td><td>f64</td><td>f64</td><td>f64</td><td>f64</td><td>f64</td><td>f64</td><td>f64</td><td>f64</td><td>f64</td><td>f64</td><td>f64</td><td>f64</td><td>f64</td><td>f64</td><td>f64</td><td>f64</td><td>f64</td><td>f64</td><td>f64</td><td>f64</td><td>f64</td><td>f64</td><td>f64</td><td>f64</td><td>f64</td><td>f64</td><td>f64</td><td>f64</td><td>f64</td><td>f64</td><td>f64</td><td>f64</td><td>f64</td><td>f64</td><td>f64</td><td>f64</td><td>f64</td><td>f64</td><td>f64</td><td>f64</td><td>f64</td><td>f64</td><td>f64</td><td>f64</td><td>f64</td><td>f64</td><td>f64</td><td>f64</td></tr></thead><tbody><tr><td>&quot;2023-12-31 00:00:00&quot;</td><td>-5.22e6</td><td>0.087</td><td>4.2800e9</td><td>-6e7</td><td>-6e7</td><td>3.0830e9</td><td>2.77e8</td><td>1.8501e10</td><td>4.2200e9</td><td>3.9430e9</td><td>-5.3500e8</td><td>5.65e8</td><td>3e7</td><td>3.1378e9</td><td>3.0830e9</td><td>1.9789e10</td><td>3.8640e9</td><td>3.029e8</td><td>3.015e8</td><td>10.18</td><td>10.23</td><td>3.0830e9</td><td>3.0830e9</td><td>3.0830e9</td><td>3.0830e9</td><td>3.0830e9</td><td>2.95e8</td><td>3.3780e9</td><td>-1.1e7</td><td>4e7</td><td>-6e7</td><td>null</td><td>6e7</td><td>9e6</td><td>-5.3500e8</td><td>5.65e8</td><td>3e7</td><td>3.9240e9</td><td>1.2000e9</td><td>1.89e8</td><td>1.89e8</td><td>1.0110e9</td><td>1.0110e9</td><td>1.0110e9</td><td>5.1240e9</td><td>1.8589e10</td><td>2.3713e10</td><td>6.3880e9</td></tr><tr><td>&quot;2022-12-31 00:00:00&quot;</td><td>-2.916e6</td><td>0.243</td><td>3.8110e9</td><td>-1.2e7</td><td>-1.2e7</td><td>2.3580e9</td><td>2.82e8</td><td>1.6126e10</td><td>3.7990e9</td><td>3.5170e9</td><td>-3.7700e8</td><td>4.03e8</td><td>2.6e7</td><td>2.3671e9</td><td>2.3580e9</td><td>1.7299e10</td><td>3.4620e9</td><td>3.258e8</td><td>3.244e8</td><td>7.24</td><td>7.27</td><td>2.3580e9</td><td>2.3580e9</td><td>2.3580e9</td><td>2.3580e9</td><td>2.3580e9</td><td>7.56e8</td><td>3.1140e9</td><td>1.7e7</td><td>1.1e7</td><td>-1.2e7</td><td>null</td><td>1.2e7</td><td>1.8e7</td><td>-3.7700e8</td><td>4.03e8</td><td>2.6e7</td><td>3.4740e9</td><td>1.0840e9</td><td>1.93e8</td><td>1.93e8</td><td>8.91e8</td><td>8.91e8</td><td>8.91e8</td><td>4.5580e9</td><td>1.6215e10</td><td>2.0773e10</td><td>5.4450e9</td></tr><tr><td>&quot;2021-12-31 00:00:00&quot;</td><td>-1.1696e7</td><td>0.068</td><td>2.0670e9</td><td>-1.7200e8</td><td>-1.7200e8</td><td>1.0990e9</td><td>2.95e8</td><td>1.0981e10</td><td>1.8950e9</td><td>1.6000e9</td><td>-3.9200e8</td><td>4.2e8</td><td>2.8e7</td><td>1.2593e9</td><td>1.0990e9</td><td>1.2099e10</td><td>1.7500e9</td><td>3.293e8</td><td>3.272e8</td><td>3.34</td><td>3.36</td><td>1.0990e9</td><td>1.0990e9</td><td>1.0990e9</td><td>1.0990e9</td><td>1.0990e9</td><td>8.1e7</td><td>1.1800e9</td><td>-1.8600e8</td><td>1e7</td><td>-1.7200e8</td><td>1.64e8</td><td>8e6</td><td>-2.4e7</td><td>-3.9200e8</td><td>4.2e8</td><td>2.8e7</td><td>1.7580e9</td><td>1.0430e9</td><td>2.2e8</td><td>2.2e8</td><td>8.23e8</td><td>8.23e8</td><td>8.23e8</td><td>2.8010e9</td><td>1.1056e10</td><td>1.3857e10</td><td>3.4900e9</td></tr><tr><td>&quot;2020-12-31 00:00:00&quot;</td><td>-7.209e7</td><td>0.27</td><td>7.24e8</td><td>-2.6700e8</td><td>-2.6700e8</td><td>-2.6700e8</td><td>4.78e8</td><td>8.9800e9</td><td>4.57e8</td><td>-2.1e7</td><td>-4.1800e8</td><td>4.45e8</td><td>2.7e7</td><td>-7.209e7</td><td>-2.6700e8</td><td>1.0220e10</td><td>8.4e7</td><td>3.258e8</td><td>3.258e8</td><td>-0.82</td><td>-0.82</td><td>-2.6700e8</td><td>-2.6700e8</td><td>-2.6700e8</td><td>-2.6700e8</td><td>-2.6700e8</td><td>-1.9900e8</td><td>-4.6600e8</td><td>-3.9900e8</td><td>9e6</td><td>-2.6700e8</td><td>null</td><td>2.67e8</td><td>-1.4100e8</td><td>-4.1800e8</td><td>4.45e8</td><td>2.7e7</td><td>3.51e8</td><td>1.1080e9</td><td>3.46e8</td><td>3.46e8</td><td>7.62e8</td><td>7.62e8</td><td>7.62e8</td><td>1.4590e9</td><td>9.1120e9</td><td>1.0571e10</td><td>2.1190e9</td></tr><tr><td>&quot;2019-12-31 00:00:00&quot;</td><td>null</td><td>null</td><td>null</td><td>null</td><td>null</td><td>null</td><td>null</td><td>null</td><td>null</td><td>null</td><td>null</td><td>null</td><td>null</td><td>null</td><td>null</td><td>null</td><td>null</td><td>null</td><td>null</td><td>null</td><td>null</td><td>null</td><td>null</td><td>null</td><td>null</td><td>null</td><td>null</td><td>null</td><td>null</td><td>null</td><td>null</td><td>-1.5400e8</td><td>null</td><td>null</td><td>null</td><td>null</td><td>null</td><td>null</td><td>null</td><td>null</td><td>null</td><td>null</td><td>null</td><td>null</td><td>null</td><td>null</td><td>null</td><td>null</td></tr></tbody></table></div>"
      ],
      "text/plain": [
       "shape: (5, 49)\n",
       "┌─────────────┬─────────────┬─────────────┬─────────────┬───┬─────────────┬─────────────┬─────────────┬────────────┐\n",
       "│ date        ┆ Tax Effect  ┆ Tax Rate    ┆ Normalized  ┆ … ┆ Gross       ┆ Cost Of     ┆ Total       ┆ Operating  │\n",
       "│ ---         ┆ Of Unusual  ┆ For Calcs   ┆ EBITDA      ┆   ┆ Profit      ┆ Revenue     ┆ Revenue     ┆ Revenue    │\n",
       "│ str         ┆ Items       ┆ ---         ┆ ---         ┆   ┆ ---         ┆ ---         ┆ ---         ┆ ---        │\n",
       "│             ┆ ---         ┆ f64         ┆ f64         ┆   ┆ f64         ┆ f64         ┆ f64         ┆ f64        │\n",
       "│             ┆ f64         ┆             ┆             ┆   ┆             ┆             ┆             ┆            │\n",
       "╞═════════════╪═════════════╪═════════════╪═════════════╪═══╪═════════════╪═════════════╪═════════════╪════════════╡\n",
       "│ 2023-12-31  ┆ -5.22e6     ┆ 0.087       ┆ 4.2800e9    ┆ … ┆ 5.1240e9    ┆ 1.8589e10   ┆ 2.3713e10   ┆ 6.3880e9   │\n",
       "│ 00:00:00    ┆             ┆             ┆             ┆   ┆             ┆             ┆             ┆            │\n",
       "│ 2022-12-31  ┆ -2.916e6    ┆ 0.243       ┆ 3.8110e9    ┆ … ┆ 4.5580e9    ┆ 1.6215e10   ┆ 2.0773e10   ┆ 5.4450e9   │\n",
       "│ 00:00:00    ┆             ┆             ┆             ┆   ┆             ┆             ┆             ┆            │\n",
       "│ 2021-12-31  ┆ -1.1696e7   ┆ 0.068       ┆ 2.0670e9    ┆ … ┆ 2.8010e9    ┆ 1.1056e10   ┆ 1.3857e10   ┆ 3.4900e9   │\n",
       "│ 00:00:00    ┆             ┆             ┆             ┆   ┆             ┆             ┆             ┆            │\n",
       "│ 2020-12-31  ┆ -7.209e7    ┆ 0.27        ┆ 7.24e8      ┆ … ┆ 1.4590e9    ┆ 9.1120e9    ┆ 1.0571e10   ┆ 2.1190e9   │\n",
       "│ 00:00:00    ┆             ┆             ┆             ┆   ┆             ┆             ┆             ┆            │\n",
       "│ 2019-12-31  ┆ null        ┆ null        ┆ null        ┆ … ┆ null        ┆ null        ┆ null        ┆ null       │\n",
       "│ 00:00:00    ┆             ┆             ┆             ┆   ┆             ┆             ┆             ┆            │\n",
       "└─────────────┴─────────────┴─────────────┴─────────────┴───┴─────────────┴─────────────┴─────────────┴────────────┘"
      ]
     },
     "metadata": {},
     "output_type": "display_data"
    },
    {
     "data": {
      "text/html": [
       "<h2>Balance Sheet</h2>"
      ],
      "text/plain": [
       "<IPython.core.display.HTML object>"
      ]
     },
     "metadata": {},
     "output_type": "display_data"
    },
    {
     "data": {
      "text/html": [
       "<div><style>\n",
       ".dataframe > thead > tr,\n",
       ".dataframe > tbody > tr {\n",
       "  text-align: right;\n",
       "  white-space: pre-wrap;\n",
       "}\n",
       "</style>\n",
       "<small>shape: (5, 69)</small><table border=\"1\" class=\"dataframe\"><thead><tr><th>date</th><th>Ordinary Shares Number</th><th>Share Issued</th><th>Net Debt</th><th>Total Debt</th><th>Tangible Book Value</th><th>Invested Capital</th><th>Working Capital</th><th>Net Tangible Assets</th><th>Capital Lease Obligations</th><th>Common Stock Equity</th><th>Total Capitalization</th><th>Total Equity Gross Minority Interest</th><th>Stockholders Equity</th><th>Gains Losses Not Affecting Retained Earnings</th><th>Other Equity Adjustments</th><th>Treasury Stock</th><th>Retained Earnings</th><th>Additional Paid In Capital</th><th>Capital Stock</th><th>Common Stock</th><th>Total Liabilities Net Minority Interest</th><th>Total Non Current Liabilities Net Minority Interest</th><th>Other Non Current Liabilities</th><th>Non Current Deferred Liabilities</th><th>Non Current Deferred Revenue</th><th>Non Current Deferred Taxes Liabilities</th><th>Long Term Debt And Capital Lease Obligation</th><th>Long Term Capital Lease Obligation</th><th>Long Term Debt</th><th>Current Liabilities</th><th>Other Current Liabilities</th><th>Current Debt And Capital Lease Obligation</th><th>Current Debt</th><th>Payables And Accrued Expenses</th><th>Current Accrued Expenses</th><th>Payables</th><th>Accounts Payable</th><th>Total Assets</th><th>Total Non Current Assets</th><th>Other Non Current Assets</th><th>Non Current Deferred Assets</th><th>Non Current Deferred Taxes Assets</th><th>Non Current Note Receivables</th><th>Investments And Advances</th><th>Long Term Equity Investment</th><th>Goodwill And Other Intangible Assets</th><th>Other Intangible Assets</th><th>Goodwill</th><th>Net PPE</th><th>Accumulated Depreciation</th><th>Gross PPE</th><th>Construction In Progress</th><th>Other Properties</th><th>Machinery Furniture Equipment</th><th>Buildings And Improvements</th><th>Land And Improvements</th><th>Properties</th><th>Current Assets</th><th>Other Current Assets</th><th>Assets Held For Sale Current</th><th>Prepaid Assets</th><th>Receivables</th><th>Accounts Receivable</th><th>Allowance For Doubtful Accounts Receivable</th><th>Gross Accounts Receivable</th><th>Cash Cash Equivalents And Short Term Investments</th><th>Cash And Cash Equivalents</th><th>Cash Financial</th></tr><tr><td>str</td><td>f64</td><td>f64</td><td>f64</td><td>f64</td><td>f64</td><td>f64</td><td>f64</td><td>f64</td><td>f64</td><td>f64</td><td>f64</td><td>f64</td><td>f64</td><td>f64</td><td>f64</td><td>f64</td><td>f64</td><td>f64</td><td>f64</td><td>f64</td><td>f64</td><td>f64</td><td>f64</td><td>f64</td><td>f64</td><td>f64</td><td>f64</td><td>f64</td><td>f64</td><td>f64</td><td>f64</td><td>f64</td><td>f64</td><td>f64</td><td>f64</td><td>f64</td><td>f64</td><td>f64</td><td>f64</td><td>f64</td><td>f64</td><td>f64</td><td>f64</td><td>f64</td><td>f64</td><td>f64</td><td>f64</td><td>f64</td><td>f64</td><td>f64</td><td>f64</td><td>f64</td><td>f64</td><td>f64</td><td>f64</td><td>f64</td><td>f64</td><td>f64</td><td>f64</td><td>f64</td><td>f64</td><td>f64</td><td>f64</td><td>f64</td><td>f64</td><td>f64</td><td>f64</td><td>f64</td></tr></thead><tbody><tr><td>&quot;2023-12-31 00:00:00&quot;</td><td>2.90539975e8</td><td>2.90539975e8</td><td>1.1535e10</td><td>1.2760e10</td><td>-1.8758e10</td><td>1.1191e10</td><td>-4.4510e9</td><td>-1.8758e10</td><td>8.87e8</td><td>-6.8200e8</td><td>1.0638e10</td><td>-6.8200e8</td><td>-6.8200e8</td><td>-6.4700e8</td><td>-6.4700e8</td><td>2.0929e10</td><td>1.4838e10</td><td>6.0510e9</td><td>5e6</td><td>5e6</td><td>2.6356e10</td><td>1.8594e10</td><td>5.1600e9</td><td>1.2270e9</td><td>1.0180e9</td><td>2.09e8</td><td>1.2207e10</td><td>8.87e8</td><td>1.1320e10</td><td>7.7620e9</td><td>3.3280e9</td><td>5.53e8</td><td>5.53e8</td><td>3.8810e9</td><td>3.1430e9</td><td>7.38e8</td><td>7.38e8</td><td>2.5674e10</td><td>2.2363e10</td><td>6.58e8</td><td>6.73e8</td><td>6.73e8</td><td>1.38e8</td><td>3.08e8</td><td>3.08e8</td><td>1.8076e10</td><td>9.1900e9</td><td>8.8860e9</td><td>2.5100e9</td><td>-8.9000e8</td><td>3.4000e9</td><td>7.2e7</td><td>9.29e8</td><td>6.22e8</td><td>1.1080e9</td><td>6.69e8</td><td>0.0</td><td>3.3110e9</td><td>2.61e8</td><td>null</td><td>null</td><td>2.7120e9</td><td>2.7120e9</td><td>-1.9700e8</td><td>2.9090e9</td><td>3.38e8</td><td>3.38e8</td><td>null</td></tr><tr><td>&quot;2022-12-31 00:00:00&quot;</td><td>3.106e8</td><td>3.106e8</td><td>9.5570e9</td><td>1.1098e10</td><td>-1.7051e10</td><td>1.0632e10</td><td>-4.0260e9</td><td>-1.7051e10</td><td>1.0340e9</td><td>5.68e8</td><td>9.9480e9</td><td>5.68e8</td><td>5.68e8</td><td>-7.2900e8</td><td>-7.2900e8</td><td>1.7015e10</td><td>1.2342e10</td><td>5.9650e9</td><td>5e6</td><td>5e6</td><td>2.4247e10</td><td>1.6908e10</td><td>5.1220e9</td><td>1.3720e9</td><td>1.0590e9</td><td>3.13e8</td><td>1.0414e10</td><td>1.0340e9</td><td>9.3800e9</td><td>7.3390e9</td><td>3.3140e9</td><td>6.84e8</td><td>6.84e8</td><td>3.3410e9</td><td>2.5950e9</td><td>7.46e8</td><td>7.46e8</td><td>2.4815e10</td><td>2.1502e10</td><td>5.84e8</td><td>2.4e8</td><td>2.4e8</td><td>1.52e8</td><td>3.35e8</td><td>3.35e8</td><td>1.7619e10</td><td>8.7470e9</td><td>8.8720e9</td><td>2.5720e9</td><td>-8.7400e8</td><td>3.4460e9</td><td>3.6e7</td><td>9.87e8</td><td>6.49e8</td><td>1.0860e9</td><td>6.88e8</td><td>0.0</td><td>3.3130e9</td><td>2.35e8</td><td>null</td><td>null</td><td>2.5710e9</td><td>2.5710e9</td><td>-1.9100e8</td><td>2.7620e9</td><td>5.07e8</td><td>5.07e8</td><td>null</td></tr><tr><td>&quot;2021-12-31 00:00:00&quot;</td><td>3.273e8</td><td>3.273e8</td><td>8.7450e9</td><td>1.1236e10</td><td>-1.6585e10</td><td>1.1552e10</td><td>-2.7810e9</td><td>-1.6585e10</td><td>1.0980e9</td><td>1.4140e9</td><td>1.0747e10</td><td>1.4140e9</td><td>1.4140e9</td><td>-3.4200e8</td><td>-3.4200e8</td><td>1.4446e10</td><td>1.0305e10</td><td>5.8920e9</td><td>5e6</td><td>5e6</td><td>2.4139e10</td><td>1.7732e10</td><td>5.9510e9</td><td>1.3500e9</td><td>1.1810e9</td><td>1.69e8</td><td>1.0431e10</td><td>1.0980e9</td><td>9.3330e9</td><td>6.4070e9</td><td>2.5220e9</td><td>8.05e8</td><td>8.05e8</td><td>3.0800e9</td><td>2.3540e9</td><td>7.26e8</td><td>7.26e8</td><td>2.5553e10</td><td>2.1927e10</td><td>6.04e8</td><td>2.28e8</td><td>2.28e8</td><td>1.44e8</td><td>3.87e8</td><td>3.87e8</td><td>1.7999e10</td><td>8.9260e9</td><td>9.0730e9</td><td>2.5650e9</td><td>-8.5000e8</td><td>3.4150e9</td><td>1.37e8</td><td>1.0620e9</td><td>5.45e8</td><td>9.85e8</td><td>6.86e8</td><td>0.0</td><td>3.6260e9</td><td>2.51e8</td><td>null</td><td>2.51e8</td><td>1.9820e9</td><td>1.9820e9</td><td>-1.8700e8</td><td>2.1690e9</td><td>1.3930e9</td><td>1.3930e9</td><td>null</td></tr><tr><td>&quot;2020-12-31 00:00:00&quot;</td><td>3.244e8</td><td>3.244e8</td><td>9.4990e9</td><td>1.1199e10</td><td>-1.7734e10</td><td>1.0806e10</td><td>-2.9270e9</td><td>-1.7734e10</td><td>8.23e8</td><td>4.3e8</td><td>9.6330e9</td><td>4.3e8</td><td>4.3e8</td><td>-1.3500e8</td><td>-1.3500e8</td><td>1.4497e10</td><td>9.2060e9</td><td>5.8510e9</td><td>5e6</td><td>5e6</td><td>2.4271e10</td><td>1.8519e10</td><td>6.8680e9</td><td>1.6250e9</td><td>1.5420e9</td><td>8.3e7</td><td>1.0026e10</td><td>8.23e8</td><td>9.2030e9</td><td>5.7520e9</td><td>1.7690e9</td><td>1.1730e9</td><td>1.1730e9</td><td>2.8100e9</td><td>2.2830e9</td><td>5.27e8</td><td>5.27e8</td><td>2.4701e10</td><td>2.1876e10</td><td>6.16e8</td><td>2.49e8</td><td>2.49e8</td><td>1.59e8</td><td>4.22e8</td><td>null</td><td>1.8164e10</td><td>8.9890e9</td><td>9.1750e9</td><td>2.2660e9</td><td>-8.8800e8</td><td>3.1540e9</td><td>2.9e7</td><td>7.52e8</td><td>6.4e8</td><td>1.0450e9</td><td>6.88e8</td><td>0.0</td><td>2.8250e9</td><td>1.8e8</td><td>8e6</td><td>1.8e8</td><td>1.7680e9</td><td>1.7680e9</td><td>null</td><td>null</td><td>8.77e8</td><td>8.77e8</td><td>null</td></tr><tr><td>&quot;2019-12-31 00:00:00&quot;</td><td>null</td><td>null</td><td>null</td><td>null</td><td>null</td><td>null</td><td>null</td><td>null</td><td>null</td><td>null</td><td>null</td><td>null</td><td>null</td><td>null</td><td>null</td><td>null</td><td>null</td><td>null</td><td>null</td><td>null</td><td>null</td><td>null</td><td>null</td><td>null</td><td>null</td><td>null</td><td>null</td><td>null</td><td>null</td><td>null</td><td>null</td><td>null</td><td>null</td><td>null</td><td>null</td><td>null</td><td>null</td><td>null</td><td>null</td><td>null</td><td>null</td><td>null</td><td>null</td><td>null</td><td>null</td><td>null</td><td>null</td><td>null</td><td>null</td><td>null</td><td>null</td><td>null</td><td>null</td><td>null</td><td>null</td><td>null</td><td>null</td><td>null</td><td>null</td><td>2.55e8</td><td>2.52e8</td><td>null</td><td>null</td><td>null</td><td>null</td><td>null</td><td>null</td><td>2.25e8</td></tr></tbody></table></div>"
      ],
      "text/plain": [
       "shape: (5, 69)\n",
       "┌──────────────┬─────────────┬─────────────┬───────────┬───┬─────────────┬─────────────┬─────────────┬─────────────┐\n",
       "│ date         ┆ Ordinary    ┆ Share       ┆ Net Debt  ┆ … ┆ Gross       ┆ Cash Cash   ┆ Cash And    ┆ Cash        │\n",
       "│ ---          ┆ Shares      ┆ Issued      ┆ ---       ┆   ┆ Accounts    ┆ Equivalents ┆ Cash        ┆ Financial   │\n",
       "│ str          ┆ Number      ┆ ---         ┆ f64       ┆   ┆ Receivable  ┆ And Shor…   ┆ Equivalents ┆ ---         │\n",
       "│              ┆ ---         ┆ f64         ┆           ┆   ┆ ---         ┆ ---         ┆ ---         ┆ f64         │\n",
       "│              ┆ f64         ┆             ┆           ┆   ┆ f64         ┆ f64         ┆ f64         ┆             │\n",
       "╞══════════════╪═════════════╪═════════════╪═══════════╪═══╪═════════════╪═════════════╪═════════════╪═════════════╡\n",
       "│ 2023-12-31   ┆ 2.90539975e ┆ 2.90539975e ┆ 1.1535e10 ┆ … ┆ 2.9090e9    ┆ 3.38e8      ┆ 3.38e8      ┆ null        │\n",
       "│ 00:00:00     ┆ 8           ┆ 8           ┆           ┆   ┆             ┆             ┆             ┆             │\n",
       "│ 2022-12-31   ┆ 3.106e8     ┆ 3.106e8     ┆ 9.5570e9  ┆ … ┆ 2.7620e9    ┆ 5.07e8      ┆ 5.07e8      ┆ null        │\n",
       "│ 00:00:00     ┆             ┆             ┆           ┆   ┆             ┆             ┆             ┆             │\n",
       "│ 2021-12-31   ┆ 3.273e8     ┆ 3.273e8     ┆ 8.7450e9  ┆ … ┆ 2.1690e9    ┆ 1.3930e9    ┆ 1.3930e9    ┆ null        │\n",
       "│ 00:00:00     ┆             ┆             ┆           ┆   ┆             ┆             ┆             ┆             │\n",
       "│ 2020-12-31   ┆ 3.244e8     ┆ 3.244e8     ┆ 9.4990e9  ┆ … ┆ null        ┆ 8.77e8      ┆ 8.77e8      ┆ null        │\n",
       "│ 00:00:00     ┆             ┆             ┆           ┆   ┆             ┆             ┆             ┆             │\n",
       "│ 2019-12-31   ┆ null        ┆ null        ┆ null      ┆ … ┆ null        ┆ null        ┆ null        ┆ 2.25e8      │\n",
       "│ 00:00:00     ┆             ┆             ┆           ┆   ┆             ┆             ┆             ┆             │\n",
       "└──────────────┴─────────────┴─────────────┴───────────┴───┴─────────────┴─────────────┴─────────────┴─────────────┘"
      ]
     },
     "metadata": {},
     "output_type": "display_data"
    },
    {
     "data": {
      "text/html": [
       "<h2>Cash Flow</h2>"
      ],
      "text/plain": [
       "<IPython.core.display.HTML object>"
      ]
     },
     "metadata": {},
     "output_type": "display_data"
    },
    {
     "data": {
      "text/html": [
       "<div><style>\n",
       ".dataframe > thead > tr,\n",
       ".dataframe > tbody > tr {\n",
       "  text-align: right;\n",
       "  white-space: pre-wrap;\n",
       "}\n",
       "</style>\n",
       "<small>shape: (5, 44)</small><table border=\"1\" class=\"dataframe\"><thead><tr><th>date</th><th>Free Cash Flow</th><th>Repurchase Of Capital Stock</th><th>Repayment Of Debt</th><th>Issuance Of Debt</th><th>Issuance Of Capital Stock</th><th>Capital Expenditure</th><th>End Cash Position</th><th>Beginning Cash Position</th><th>Changes In Cash</th><th>Financing Cash Flow</th><th>Cash Flow From Continuing Financing Activities</th><th>Net Other Financing Charges</th><th>Cash Dividends Paid</th><th>Common Stock Dividend Paid</th><th>Net Common Stock Issuance</th><th>Common Stock Payments</th><th>Common Stock Issuance</th><th>Net Issuance Payments Of Debt</th><th>Net Short Term Debt Issuance</th><th>Net Long Term Debt Issuance</th><th>Long Term Debt Payments</th><th>Long Term Debt Issuance</th><th>Investing Cash Flow</th><th>Cash Flow From Continuing Investing Activities</th><th>Net Other Investing Changes</th><th>Net Business Purchase And Sale</th><th>Sale Of Business</th><th>Purchase Of Business</th><th>Net PPE Purchase And Sale</th><th>Sale Of PPE</th><th>Capital Expenditure Reported</th><th>Operating Cash Flow</th><th>Cash Flow From Continuing Operating Activities</th><th>Change In Working Capital</th><th>Other Non Cash Items</th><th>Stock Based Compensation</th><th>Deferred Tax</th><th>Deferred Income Tax</th><th>Depreciation Amortization Depletion</th><th>Depreciation And Amortization</th><th>Depreciation</th><th>Operating Gains Losses</th><th>Net Income From Continuing Operations</th></tr><tr><td>str</td><td>f64</td><td>f64</td><td>f64</td><td>f64</td><td>f64</td><td>f64</td><td>f64</td><td>f64</td><td>f64</td><td>f64</td><td>f64</td><td>f64</td><td>f64</td><td>f64</td><td>f64</td><td>f64</td><td>f64</td><td>f64</td><td>f64</td><td>f64</td><td>f64</td><td>f64</td><td>f64</td><td>f64</td><td>f64</td><td>f64</td><td>f64</td><td>f64</td><td>f64</td><td>f64</td><td>f64</td><td>f64</td><td>f64</td><td>f64</td><td>f64</td><td>f64</td><td>f64</td><td>f64</td><td>f64</td><td>f64</td><td>f64</td><td>f64</td><td>f64</td></tr></thead><tbody><tr><td>&quot;2023-12-31 00:00:00&quot;</td><td>2.7180e9</td><td>-3.9530e9</td><td>-6.8400e8</td><td>1.9180e9</td><td>2.9e7</td><td>-4.5200e8</td><td>3.66e8</td><td>5.25e8</td><td>-1.5900e8</td><td>-2.8640e9</td><td>-2.8640e9</td><td>-1.3300e8</td><td>-5.8700e8</td><td>-5.8700e8</td><td>-3.9240e9</td><td>-3.9530e9</td><td>2.9e7</td><td>1.7800e9</td><td>5.46e8</td><td>1.2340e9</td><td>-6.8400e8</td><td>1.9180e9</td><td>-4.6500e8</td><td>-4.6500e8</td><td>1.7e7</td><td>-1.0100e8</td><td>null</td><td>-1.0100e8</td><td>7.1e7</td><td>7.1e7</td><td>-4.5200e8</td><td>3.1700e9</td><td>3.1700e9</td><td>6.9e7</td><td>1.48e8</td><td>2.05e8</td><td>-6.1200e8</td><td>-6.1200e8</td><td>2.77e8</td><td>2.77e8</td><td>2.77e8</td><td>null</td><td>3.0830e9</td></tr><tr><td>&quot;2022-12-31 00:00:00&quot;</td><td>2.0310e9</td><td>-2.5660e9</td><td>-8.0400e8</td><td>9.83e8</td><td>0.0</td><td>-3.3200e8</td><td>5.25e8</td><td>1.4210e9</td><td>-8.9600e8</td><td>-2.9620e9</td><td>-2.9620e9</td><td>-7.2e7</td><td>-3.2100e8</td><td>-3.2100e8</td><td>-2.5660e9</td><td>-2.5660e9</td><td>0.0</td><td>-3e6</td><td>-1.8200e8</td><td>1.79e8</td><td>-8.0400e8</td><td>9.83e8</td><td>-2.9700e8</td><td>-2.9700e8</td><td>3.4e7</td><td>0.0</td><td>null</td><td>0.0</td><td>1e6</td><td>1e6</td><td>-3.3200e8</td><td>2.3630e9</td><td>2.3630e9</td><td>-5.4200e8</td><td>-2.0700e8</td><td>1.92e8</td><td>2.8e8</td><td>2.8e8</td><td>2.82e8</td><td>2.82e8</td><td>2.82e8</td><td>null</td><td>2.3580e9</td></tr><tr><td>&quot;2021-12-31 00:00:00&quot;</td><td>9.94e8</td><td>0.0</td><td>-2.1740e9</td><td>1.7930e9</td><td>2e6</td><td>-1.8300e8</td><td>1.4210e9</td><td>8.94e8</td><td>5.27e8</td><td>-4.6300e8</td><td>-4.6300e8</td><td>-2.3400e8</td><td>0.0</td><td>0.0</td><td>2e6</td><td>0.0</td><td>2e6</td><td>-2.3100e8</td><td>1.5e8</td><td>-3.8100e8</td><td>-2.1740e9</td><td>1.7930e9</td><td>-1.8700e8</td><td>-1.8700e8</td><td>-1.6e7</td><td>0.0</td><td>null</td><td>0.0</td><td>1.2e7</td><td>1.2e7</td><td>-1.8300e8</td><td>1.1770e9</td><td>1.1770e9</td><td>1.1e8</td><td>-3.9200e8</td><td>1.82e8</td><td>-2.8100e8</td><td>-2.8100e8</td><td>2.95e8</td><td>2.95e8</td><td>2.95e8</td><td>1.64e8</td><td>1.0990e9</td></tr><tr><td>&quot;2020-12-31 00:00:00&quot;</td><td>1.5040e9</td><td>-1.5000e8</td><td>-1.8870e9</td><td>3.5610e9</td><td>0.0</td><td>-1.3500e8</td><td>8.94e8</td><td>2.53e8</td><td>6.41e8</td><td>-1.0330e9</td><td>-1.0330e9</td><td>-1.1100e8</td><td>-1.5600e8</td><td>-1.5600e8</td><td>-1.5000e8</td><td>-1.5000e8</td><td>0.0</td><td>-6.1600e8</td><td>-2.2900e9</td><td>1.6740e9</td><td>-1.8870e9</td><td>3.5610e9</td><td>3.5e7</td><td>3.5e7</td><td>-9e7</td><td>2.6e8</td><td>2.6e8</td><td>null</td><td>2.6e8</td><td>2.6e8</td><td>-1.3500e8</td><td>1.6390e9</td><td>1.6390e9</td><td>-2.8e7</td><td>1.7300e9</td><td>2.01e8</td><td>-4.7800e8</td><td>-4.7800e8</td><td>4.78e8</td><td>4.78e8</td><td>4.78e8</td><td>3e6</td><td>-2.6700e8</td></tr><tr><td>&quot;2019-12-31 00:00:00&quot;</td><td>null</td><td>null</td><td>null</td><td>null</td><td>null</td><td>null</td><td>null</td><td>null</td><td>null</td><td>null</td><td>null</td><td>null</td><td>null</td><td>null</td><td>null</td><td>null</td><td>null</td><td>null</td><td>null</td><td>null</td><td>null</td><td>null</td><td>null</td><td>null</td><td>null</td><td>null</td><td>3.95e8</td><td>null</td><td>null</td><td>null</td><td>null</td><td>null</td><td>null</td><td>null</td><td>null</td><td>null</td><td>null</td><td>null</td><td>null</td><td>null</td><td>null</td><td>-1.4700e8</td><td>null</td></tr></tbody></table></div>"
      ],
      "text/plain": [
       "shape: (5, 44)\n",
       "┌─────────────┬─────────────┬─────────────┬─────────────┬───┬─────────────┬─────────────┬─────────────┬────────────┐\n",
       "│ date        ┆ Free Cash   ┆ Repurchase  ┆ Repayment   ┆ … ┆ Depreciatio ┆ Depreciatio ┆ Operating   ┆ Net Income │\n",
       "│ ---         ┆ Flow        ┆ Of Capital  ┆ Of Debt     ┆   ┆ n And Amort ┆ n           ┆ Gains       ┆ From       │\n",
       "│ str         ┆ ---         ┆ Stock       ┆ ---         ┆   ┆ ization     ┆ ---         ┆ Losses      ┆ Continuing │\n",
       "│             ┆ f64         ┆ ---         ┆ f64         ┆   ┆ ---         ┆ f64         ┆ ---         ┆ Ope…       │\n",
       "│             ┆             ┆ f64         ┆             ┆   ┆ f64         ┆             ┆ f64         ┆ ---        │\n",
       "│             ┆             ┆             ┆             ┆   ┆             ┆             ┆             ┆ f64        │\n",
       "╞═════════════╪═════════════╪═════════════╪═════════════╪═══╪═════════════╪═════════════╪═════════════╪════════════╡\n",
       "│ 2023-12-31  ┆ 2.7180e9    ┆ -3.9530e9   ┆ -6.8400e8   ┆ … ┆ 2.77e8      ┆ 2.77e8      ┆ null        ┆ 3.0830e9   │\n",
       "│ 00:00:00    ┆             ┆             ┆             ┆   ┆             ┆             ┆             ┆            │\n",
       "│ 2022-12-31  ┆ 2.0310e9    ┆ -2.5660e9   ┆ -8.0400e8   ┆ … ┆ 2.82e8      ┆ 2.82e8      ┆ null        ┆ 2.3580e9   │\n",
       "│ 00:00:00    ┆             ┆             ┆             ┆   ┆             ┆             ┆             ┆            │\n",
       "│ 2021-12-31  ┆ 9.94e8      ┆ 0.0         ┆ -2.1740e9   ┆ … ┆ 2.95e8      ┆ 2.95e8      ┆ 1.64e8      ┆ 1.0990e9   │\n",
       "│ 00:00:00    ┆             ┆             ┆             ┆   ┆             ┆             ┆             ┆            │\n",
       "│ 2020-12-31  ┆ 1.5040e9    ┆ -1.5000e8   ┆ -1.8870e9   ┆ … ┆ 4.78e8      ┆ 4.78e8      ┆ 3e6         ┆ -2.6700e8  │\n",
       "│ 00:00:00    ┆             ┆             ┆             ┆   ┆             ┆             ┆             ┆            │\n",
       "│ 2019-12-31  ┆ null        ┆ null        ┆ null        ┆ … ┆ null        ┆ null        ┆ -1.4700e8   ┆ null       │\n",
       "│ 00:00:00    ┆             ┆             ┆             ┆   ┆             ┆             ┆             ┆            │\n",
       "└─────────────┴─────────────┴─────────────┴─────────────┴───┴─────────────┴─────────────┴─────────────┴────────────┘"
      ]
     },
     "metadata": {},
     "output_type": "display_data"
    },
    {
     "data": {
      "text/plain": [
       "FinancialStatements(ticker=MAR)"
      ]
     },
     "metadata": {},
     "output_type": "display_data"
    }
   ],
   "source": [
    "from metric_forge import *\n",
    "\n",
    "fs = import_financials(ticker='MAR',engine='yfinance')\n",
    "fs"
   ]
  },
  {
   "cell_type": "markdown",
   "metadata": {},
   "source": [
    "### Income Statement"
   ]
  },
  {
   "cell_type": "code",
   "execution_count": null,
   "metadata": {},
   "outputs": [
    {
     "data": {
      "text/html": [
       "<div><style>\n",
       ".dataframe > thead > tr,\n",
       ".dataframe > tbody > tr {\n",
       "  text-align: right;\n",
       "  white-space: pre-wrap;\n",
       "}\n",
       "</style>\n",
       "<small>shape: (5, 50)</small><table border=\"1\" class=\"dataframe\"><thead><tr><th>date</th><th>Tax Effect Of Unusual Items</th><th>Tax Rate For Calcs</th><th>Normalized EBITDA</th><th>Total Unusual Items</th><th>Total Unusual Items Excluding Goodwill</th><th>Net Income From Continuing Operation Net Minority Interest</th><th>Reconciled Depreciation</th><th>Reconciled Cost Of Revenue</th><th>EBITDA</th><th>EBIT</th><th>Net Interest Income</th><th>Interest Expense</th><th>Interest Income</th><th>Normalized Income</th><th>Net Income From Continuing And Discontinued Operation</th><th>Total Expenses</th><th>Total Operating Income As Reported</th><th>Diluted Average Shares</th><th>Basic Average Shares</th><th>Diluted EPS</th><th>Basic EPS</th><th>Diluted NI Availto Com Stockholders</th><th>Net Income Common Stockholders</th><th>Net Income</th><th>Net Income Including Noncontrolling Interests</th><th>Net Income Continuous Operations</th><th>Tax Provision</th><th>Pretax Income</th><th>Other Income Expense</th><th>Other Non Operating Income Expenses</th><th>Special Income Charges</th><th>Other Special Charges</th><th>Restructuring And Mergern Acquisition</th><th>Earnings From Equity Interest</th><th>Net Non Operating Interest Income Expense</th><th>Interest Expense Non Operating</th><th>Interest Income Non Operating</th><th>Operating Income</th><th>Operating Expense</th><th>Depreciation Amortization Depletion Income Statement</th><th>Depreciation And Amortization In Income Statement</th><th>Selling General And Administration</th><th>General And Administrative Expense</th><th>Other Gand A</th><th>Gross Profit</th><th>Cost Of Revenue</th><th>Total Revenue</th><th>Operating Revenue</th><th>gross_profit_margin</th></tr><tr><td>str</td><td>f64</td><td>f64</td><td>f64</td><td>f64</td><td>f64</td><td>f64</td><td>f64</td><td>f64</td><td>f64</td><td>f64</td><td>f64</td><td>f64</td><td>f64</td><td>f64</td><td>f64</td><td>f64</td><td>f64</td><td>f64</td><td>f64</td><td>f64</td><td>f64</td><td>f64</td><td>f64</td><td>f64</td><td>f64</td><td>f64</td><td>f64</td><td>f64</td><td>f64</td><td>f64</td><td>f64</td><td>f64</td><td>f64</td><td>f64</td><td>f64</td><td>f64</td><td>f64</td><td>f64</td><td>f64</td><td>f64</td><td>f64</td><td>f64</td><td>f64</td><td>f64</td><td>f64</td><td>f64</td><td>f64</td><td>f64</td><td>f64</td></tr></thead><tbody><tr><td>&quot;2023-12-31 00:00:00&quot;</td><td>-5.22e6</td><td>0.087</td><td>4.2800e9</td><td>-6e7</td><td>-6e7</td><td>3.0830e9</td><td>2.77e8</td><td>1.8501e10</td><td>4.2200e9</td><td>3.9430e9</td><td>-5.3500e8</td><td>5.65e8</td><td>3e7</td><td>3.1378e9</td><td>3.0830e9</td><td>1.9789e10</td><td>3.8640e9</td><td>3.029e8</td><td>3.015e8</td><td>10.18</td><td>10.23</td><td>3.0830e9</td><td>3.0830e9</td><td>3.0830e9</td><td>3.0830e9</td><td>3.0830e9</td><td>2.95e8</td><td>3.3780e9</td><td>-1.1e7</td><td>4e7</td><td>-6e7</td><td>null</td><td>6e7</td><td>9e6</td><td>-5.3500e8</td><td>5.65e8</td><td>3e7</td><td>3.9240e9</td><td>1.2000e9</td><td>1.89e8</td><td>1.89e8</td><td>1.0110e9</td><td>1.0110e9</td><td>1.0110e9</td><td>5.1240e9</td><td>1.8589e10</td><td>2.3713e10</td><td>6.3880e9</td><td>0.216084</td></tr><tr><td>&quot;2022-12-31 00:00:00&quot;</td><td>-2.916e6</td><td>0.243</td><td>3.8110e9</td><td>-1.2e7</td><td>-1.2e7</td><td>2.3580e9</td><td>2.82e8</td><td>1.6126e10</td><td>3.7990e9</td><td>3.5170e9</td><td>-3.7700e8</td><td>4.03e8</td><td>2.6e7</td><td>2.3671e9</td><td>2.3580e9</td><td>1.7299e10</td><td>3.4620e9</td><td>3.258e8</td><td>3.244e8</td><td>7.24</td><td>7.27</td><td>2.3580e9</td><td>2.3580e9</td><td>2.3580e9</td><td>2.3580e9</td><td>2.3580e9</td><td>7.56e8</td><td>3.1140e9</td><td>1.7e7</td><td>1.1e7</td><td>-1.2e7</td><td>null</td><td>1.2e7</td><td>1.8e7</td><td>-3.7700e8</td><td>4.03e8</td><td>2.6e7</td><td>3.4740e9</td><td>1.0840e9</td><td>1.93e8</td><td>1.93e8</td><td>8.91e8</td><td>8.91e8</td><td>8.91e8</td><td>4.5580e9</td><td>1.6215e10</td><td>2.0773e10</td><td>5.4450e9</td><td>0.219419</td></tr><tr><td>&quot;2021-12-31 00:00:00&quot;</td><td>-1.1696e7</td><td>0.068</td><td>2.0670e9</td><td>-1.7200e8</td><td>-1.7200e8</td><td>1.0990e9</td><td>2.95e8</td><td>1.0981e10</td><td>1.8950e9</td><td>1.6000e9</td><td>-3.9200e8</td><td>4.2e8</td><td>2.8e7</td><td>1.2593e9</td><td>1.0990e9</td><td>1.2099e10</td><td>1.7500e9</td><td>3.293e8</td><td>3.272e8</td><td>3.34</td><td>3.36</td><td>1.0990e9</td><td>1.0990e9</td><td>1.0990e9</td><td>1.0990e9</td><td>1.0990e9</td><td>8.1e7</td><td>1.1800e9</td><td>-1.8600e8</td><td>1e7</td><td>-1.7200e8</td><td>1.64e8</td><td>8e6</td><td>-2.4e7</td><td>-3.9200e8</td><td>4.2e8</td><td>2.8e7</td><td>1.7580e9</td><td>1.0430e9</td><td>2.2e8</td><td>2.2e8</td><td>8.23e8</td><td>8.23e8</td><td>8.23e8</td><td>2.8010e9</td><td>1.1056e10</td><td>1.3857e10</td><td>3.4900e9</td><td>0.202136</td></tr><tr><td>&quot;2020-12-31 00:00:00&quot;</td><td>-7.209e7</td><td>0.27</td><td>7.24e8</td><td>-2.6700e8</td><td>-2.6700e8</td><td>-2.6700e8</td><td>4.78e8</td><td>8.9800e9</td><td>4.57e8</td><td>-2.1e7</td><td>-4.1800e8</td><td>4.45e8</td><td>2.7e7</td><td>-7.209e7</td><td>-2.6700e8</td><td>1.0220e10</td><td>8.4e7</td><td>3.258e8</td><td>3.258e8</td><td>-0.82</td><td>-0.82</td><td>-2.6700e8</td><td>-2.6700e8</td><td>-2.6700e8</td><td>-2.6700e8</td><td>-2.6700e8</td><td>-1.9900e8</td><td>-4.6600e8</td><td>-3.9900e8</td><td>9e6</td><td>-2.6700e8</td><td>null</td><td>2.67e8</td><td>-1.4100e8</td><td>-4.1800e8</td><td>4.45e8</td><td>2.7e7</td><td>3.51e8</td><td>1.1080e9</td><td>3.46e8</td><td>3.46e8</td><td>7.62e8</td><td>7.62e8</td><td>7.62e8</td><td>1.4590e9</td><td>9.1120e9</td><td>1.0571e10</td><td>2.1190e9</td><td>0.138019</td></tr><tr><td>&quot;2019-12-31 00:00:00&quot;</td><td>null</td><td>null</td><td>null</td><td>null</td><td>null</td><td>null</td><td>null</td><td>null</td><td>null</td><td>null</td><td>null</td><td>null</td><td>null</td><td>null</td><td>null</td><td>null</td><td>null</td><td>null</td><td>null</td><td>null</td><td>null</td><td>null</td><td>null</td><td>null</td><td>null</td><td>null</td><td>null</td><td>null</td><td>null</td><td>null</td><td>null</td><td>-1.5400e8</td><td>null</td><td>null</td><td>null</td><td>null</td><td>null</td><td>null</td><td>null</td><td>null</td><td>null</td><td>null</td><td>null</td><td>null</td><td>null</td><td>null</td><td>null</td><td>null</td><td>null</td></tr></tbody></table></div>"
      ],
      "text/plain": [
       "shape: (5, 50)\n",
       "┌─────────────┬─────────────┬─────────────┬─────────────┬───┬─────────────┬─────────────┬─────────────┬────────────┐\n",
       "│ date        ┆ Tax Effect  ┆ Tax Rate    ┆ Normalized  ┆ … ┆ Cost Of     ┆ Total       ┆ Operating   ┆ gross_prof │\n",
       "│ ---         ┆ Of Unusual  ┆ For Calcs   ┆ EBITDA      ┆   ┆ Revenue     ┆ Revenue     ┆ Revenue     ┆ it_margin  │\n",
       "│ str         ┆ Items       ┆ ---         ┆ ---         ┆   ┆ ---         ┆ ---         ┆ ---         ┆ ---        │\n",
       "│             ┆ ---         ┆ f64         ┆ f64         ┆   ┆ f64         ┆ f64         ┆ f64         ┆ f64        │\n",
       "│             ┆ f64         ┆             ┆             ┆   ┆             ┆             ┆             ┆            │\n",
       "╞═════════════╪═════════════╪═════════════╪═════════════╪═══╪═════════════╪═════════════╪═════════════╪════════════╡\n",
       "│ 2023-12-31  ┆ -5.22e6     ┆ 0.087       ┆ 4.2800e9    ┆ … ┆ 1.8589e10   ┆ 2.3713e10   ┆ 6.3880e9    ┆ 0.216084   │\n",
       "│ 00:00:00    ┆             ┆             ┆             ┆   ┆             ┆             ┆             ┆            │\n",
       "│ 2022-12-31  ┆ -2.916e6    ┆ 0.243       ┆ 3.8110e9    ┆ … ┆ 1.6215e10   ┆ 2.0773e10   ┆ 5.4450e9    ┆ 0.219419   │\n",
       "│ 00:00:00    ┆             ┆             ┆             ┆   ┆             ┆             ┆             ┆            │\n",
       "│ 2021-12-31  ┆ -1.1696e7   ┆ 0.068       ┆ 2.0670e9    ┆ … ┆ 1.1056e10   ┆ 1.3857e10   ┆ 3.4900e9    ┆ 0.202136   │\n",
       "│ 00:00:00    ┆             ┆             ┆             ┆   ┆             ┆             ┆             ┆            │\n",
       "│ 2020-12-31  ┆ -7.209e7    ┆ 0.27        ┆ 7.24e8      ┆ … ┆ 9.1120e9    ┆ 1.0571e10   ┆ 2.1190e9    ┆ 0.138019   │\n",
       "│ 00:00:00    ┆             ┆             ┆             ┆   ┆             ┆             ┆             ┆            │\n",
       "│ 2019-12-31  ┆ null        ┆ null        ┆ null        ┆ … ┆ null        ┆ null        ┆ null        ┆ null       │\n",
       "│ 00:00:00    ┆             ┆             ┆             ┆   ┆             ┆             ┆             ┆            │\n",
       "└─────────────┴─────────────┴─────────────┴─────────────┴───┴─────────────┴─────────────┴─────────────┴────────────┘"
      ]
     },
     "metadata": {},
     "output_type": "display_data"
    }
   ],
   "source": [
    "import polars as pl\n",
    "\n",
    "fs.income_statement.with_columns(pl.col('*').forge_income_statement.gross_profit_margin(revenue_column='Total Revenue',cogs_column='Cost Of Revenue'))"
   ]
  },
  {
   "cell_type": "code",
   "execution_count": null,
   "metadata": {},
   "outputs": [
    {
     "data": {
      "text/html": [
       "<div><style>\n",
       ".dataframe > thead > tr,\n",
       ".dataframe > tbody > tr {\n",
       "  text-align: right;\n",
       "  white-space: pre-wrap;\n",
       "}\n",
       "</style>\n",
       "<small>shape: (5, 50)</small><table border=\"1\" class=\"dataframe\"><thead><tr><th>date</th><th>Tax Effect Of Unusual Items</th><th>Tax Rate For Calcs</th><th>Normalized EBITDA</th><th>Total Unusual Items</th><th>Total Unusual Items Excluding Goodwill</th><th>Net Income From Continuing Operation Net Minority Interest</th><th>Reconciled Depreciation</th><th>Reconciled Cost Of Revenue</th><th>EBITDA</th><th>EBIT</th><th>Net Interest Income</th><th>Interest Expense</th><th>Interest Income</th><th>Normalized Income</th><th>Net Income From Continuing And Discontinued Operation</th><th>Total Expenses</th><th>Total Operating Income As Reported</th><th>Diluted Average Shares</th><th>Basic Average Shares</th><th>Diluted EPS</th><th>Basic EPS</th><th>Diluted NI Availto Com Stockholders</th><th>Net Income Common Stockholders</th><th>Net Income</th><th>Net Income Including Noncontrolling Interests</th><th>Net Income Continuous Operations</th><th>Tax Provision</th><th>Pretax Income</th><th>Other Income Expense</th><th>Other Non Operating Income Expenses</th><th>Special Income Charges</th><th>Other Special Charges</th><th>Restructuring And Mergern Acquisition</th><th>Earnings From Equity Interest</th><th>Net Non Operating Interest Income Expense</th><th>Interest Expense Non Operating</th><th>Interest Income Non Operating</th><th>Operating Income</th><th>Operating Expense</th><th>Depreciation Amortization Depletion Income Statement</th><th>Depreciation And Amortization In Income Statement</th><th>Selling General And Administration</th><th>General And Administrative Expense</th><th>Other Gand A</th><th>Gross Profit</th><th>Cost Of Revenue</th><th>Total Revenue</th><th>Operating Revenue</th><th>net_profit_margin</th></tr><tr><td>str</td><td>f64</td><td>f64</td><td>f64</td><td>f64</td><td>f64</td><td>f64</td><td>f64</td><td>f64</td><td>f64</td><td>f64</td><td>f64</td><td>f64</td><td>f64</td><td>f64</td><td>f64</td><td>f64</td><td>f64</td><td>f64</td><td>f64</td><td>f64</td><td>f64</td><td>f64</td><td>f64</td><td>f64</td><td>f64</td><td>f64</td><td>f64</td><td>f64</td><td>f64</td><td>f64</td><td>f64</td><td>f64</td><td>f64</td><td>f64</td><td>f64</td><td>f64</td><td>f64</td><td>f64</td><td>f64</td><td>f64</td><td>f64</td><td>f64</td><td>f64</td><td>f64</td><td>f64</td><td>f64</td><td>f64</td><td>f64</td><td>f64</td></tr></thead><tbody><tr><td>&quot;2023-12-31 00:00:00&quot;</td><td>-5.22e6</td><td>0.087</td><td>4.2800e9</td><td>-6e7</td><td>-6e7</td><td>3.0830e9</td><td>2.77e8</td><td>1.8501e10</td><td>4.2200e9</td><td>3.9430e9</td><td>-5.3500e8</td><td>5.65e8</td><td>3e7</td><td>3.1378e9</td><td>3.0830e9</td><td>1.9789e10</td><td>3.8640e9</td><td>3.029e8</td><td>3.015e8</td><td>10.18</td><td>10.23</td><td>3.0830e9</td><td>3.0830e9</td><td>3.0830e9</td><td>3.0830e9</td><td>3.0830e9</td><td>2.95e8</td><td>3.3780e9</td><td>-1.1e7</td><td>4e7</td><td>-6e7</td><td>null</td><td>6e7</td><td>9e6</td><td>-5.3500e8</td><td>5.65e8</td><td>3e7</td><td>3.9240e9</td><td>1.2000e9</td><td>1.89e8</td><td>1.89e8</td><td>1.0110e9</td><td>1.0110e9</td><td>1.0110e9</td><td>5.1240e9</td><td>1.8589e10</td><td>2.3713e10</td><td>6.3880e9</td><td>-0.618437</td></tr><tr><td>&quot;2022-12-31 00:00:00&quot;</td><td>-2.916e6</td><td>0.243</td><td>3.8110e9</td><td>-1.2e7</td><td>-1.2e7</td><td>2.3580e9</td><td>2.82e8</td><td>1.6126e10</td><td>3.7990e9</td><td>3.5170e9</td><td>-3.7700e8</td><td>4.03e8</td><td>2.6e7</td><td>2.3671e9</td><td>2.3580e9</td><td>1.7299e10</td><td>3.4620e9</td><td>3.258e8</td><td>3.244e8</td><td>7.24</td><td>7.27</td><td>2.3580e9</td><td>2.3580e9</td><td>2.3580e9</td><td>2.3580e9</td><td>2.3580e9</td><td>7.56e8</td><td>3.1140e9</td><td>1.7e7</td><td>1.1e7</td><td>-1.2e7</td><td>null</td><td>1.2e7</td><td>1.8e7</td><td>-3.7700e8</td><td>4.03e8</td><td>2.6e7</td><td>3.4740e9</td><td>1.0840e9</td><td>1.93e8</td><td>1.93e8</td><td>8.91e8</td><td>8.91e8</td><td>8.91e8</td><td>4.5580e9</td><td>1.6215e10</td><td>2.0773e10</td><td>5.4450e9</td><td>-0.613344</td></tr><tr><td>&quot;2021-12-31 00:00:00&quot;</td><td>-1.1696e7</td><td>0.068</td><td>2.0670e9</td><td>-1.7200e8</td><td>-1.7200e8</td><td>1.0990e9</td><td>2.95e8</td><td>1.0981e10</td><td>1.8950e9</td><td>1.6000e9</td><td>-3.9200e8</td><td>4.2e8</td><td>2.8e7</td><td>1.2593e9</td><td>1.0990e9</td><td>1.2099e10</td><td>1.7500e9</td><td>3.293e8</td><td>3.272e8</td><td>3.34</td><td>3.36</td><td>1.0990e9</td><td>1.0990e9</td><td>1.0990e9</td><td>1.0990e9</td><td>1.0990e9</td><td>8.1e7</td><td>1.1800e9</td><td>-1.8600e8</td><td>1e7</td><td>-1.7200e8</td><td>1.64e8</td><td>8e6</td><td>-2.4e7</td><td>-3.9200e8</td><td>4.2e8</td><td>2.8e7</td><td>1.7580e9</td><td>1.0430e9</td><td>2.2e8</td><td>2.2e8</td><td>8.23e8</td><td>8.23e8</td><td>8.23e8</td><td>2.8010e9</td><td>1.1056e10</td><td>1.3857e10</td><td>3.4900e9</td><td>-0.670997</td></tr><tr><td>&quot;2020-12-31 00:00:00&quot;</td><td>-7.209e7</td><td>0.27</td><td>7.24e8</td><td>-2.6700e8</td><td>-2.6700e8</td><td>-2.6700e8</td><td>4.78e8</td><td>8.9800e9</td><td>4.57e8</td><td>-2.1e7</td><td>-4.1800e8</td><td>4.45e8</td><td>2.7e7</td><td>-7.209e7</td><td>-2.6700e8</td><td>1.0220e10</td><td>8.4e7</td><td>3.258e8</td><td>3.258e8</td><td>-0.82</td><td>-0.82</td><td>-2.6700e8</td><td>-2.6700e8</td><td>-2.6700e8</td><td>-2.6700e8</td><td>-2.6700e8</td><td>-1.9900e8</td><td>-4.6600e8</td><td>-3.9900e8</td><td>9e6</td><td>-2.6700e8</td><td>null</td><td>2.67e8</td><td>-1.4100e8</td><td>-4.1800e8</td><td>4.45e8</td><td>2.7e7</td><td>3.51e8</td><td>1.1080e9</td><td>3.46e8</td><td>3.46e8</td><td>7.62e8</td><td>7.62e8</td><td>7.62e8</td><td>1.4590e9</td><td>9.1120e9</td><td>1.0571e10</td><td>2.1190e9</td><td>-0.828777</td></tr><tr><td>&quot;2019-12-31 00:00:00&quot;</td><td>null</td><td>null</td><td>null</td><td>null</td><td>null</td><td>null</td><td>null</td><td>null</td><td>null</td><td>null</td><td>null</td><td>null</td><td>null</td><td>null</td><td>null</td><td>null</td><td>null</td><td>null</td><td>null</td><td>null</td><td>null</td><td>null</td><td>null</td><td>null</td><td>null</td><td>null</td><td>null</td><td>null</td><td>null</td><td>null</td><td>null</td><td>-1.5400e8</td><td>null</td><td>null</td><td>null</td><td>null</td><td>null</td><td>null</td><td>null</td><td>null</td><td>null</td><td>null</td><td>null</td><td>null</td><td>null</td><td>null</td><td>null</td><td>null</td><td>null</td></tr></tbody></table></div>"
      ],
      "text/plain": [
       "shape: (5, 50)\n",
       "┌─────────────┬─────────────┬─────────────┬─────────────┬───┬─────────────┬─────────────┬─────────────┬────────────┐\n",
       "│ date        ┆ Tax Effect  ┆ Tax Rate    ┆ Normalized  ┆ … ┆ Cost Of     ┆ Total       ┆ Operating   ┆ net_profit │\n",
       "│ ---         ┆ Of Unusual  ┆ For Calcs   ┆ EBITDA      ┆   ┆ Revenue     ┆ Revenue     ┆ Revenue     ┆ _margin    │\n",
       "│ str         ┆ Items       ┆ ---         ┆ ---         ┆   ┆ ---         ┆ ---         ┆ ---         ┆ ---        │\n",
       "│             ┆ ---         ┆ f64         ┆ f64         ┆   ┆ f64         ┆ f64         ┆ f64         ┆ f64        │\n",
       "│             ┆ f64         ┆             ┆             ┆   ┆             ┆             ┆             ┆            │\n",
       "╞═════════════╪═════════════╪═════════════╪═════════════╪═══╪═════════════╪═════════════╪═════════════╪════════════╡\n",
       "│ 2023-12-31  ┆ -5.22e6     ┆ 0.087       ┆ 4.2800e9    ┆ … ┆ 1.8589e10   ┆ 2.3713e10   ┆ 6.3880e9    ┆ -0.618437  │\n",
       "│ 00:00:00    ┆             ┆             ┆             ┆   ┆             ┆             ┆             ┆            │\n",
       "│ 2022-12-31  ┆ -2.916e6    ┆ 0.243       ┆ 3.8110e9    ┆ … ┆ 1.6215e10   ┆ 2.0773e10   ┆ 5.4450e9    ┆ -0.613344  │\n",
       "│ 00:00:00    ┆             ┆             ┆             ┆   ┆             ┆             ┆             ┆            │\n",
       "│ 2021-12-31  ┆ -1.1696e7   ┆ 0.068       ┆ 2.0670e9    ┆ … ┆ 1.1056e10   ┆ 1.3857e10   ┆ 3.4900e9    ┆ -0.670997  │\n",
       "│ 00:00:00    ┆             ┆             ┆             ┆   ┆             ┆             ┆             ┆            │\n",
       "│ 2020-12-31  ┆ -7.209e7    ┆ 0.27        ┆ 7.24e8      ┆ … ┆ 9.1120e9    ┆ 1.0571e10   ┆ 2.1190e9    ┆ -0.828777  │\n",
       "│ 00:00:00    ┆             ┆             ┆             ┆   ┆             ┆             ┆             ┆            │\n",
       "│ 2019-12-31  ┆ null        ┆ null        ┆ null        ┆ … ┆ null        ┆ null        ┆ null        ┆ null       │\n",
       "│ 00:00:00    ┆             ┆             ┆             ┆   ┆             ┆             ┆             ┆            │\n",
       "└─────────────┴─────────────┴─────────────┴─────────────┴───┴─────────────┴─────────────┴─────────────┴────────────┘"
      ]
     },
     "metadata": {},
     "output_type": "display_data"
    }
   ],
   "source": [
    "fs.income_statement.with_columns(pl.col('*').forge_income_statement.net_profit_margin(revenue_column='Total Revenue',cogs_column='Cost Of Revenue',expenses_column='Total Expenses'))"
   ]
  }
 ],
 "metadata": {
  "language_info": {
   "name": "python"
  }
 },
 "nbformat": 4,
 "nbformat_minor": 2
}
