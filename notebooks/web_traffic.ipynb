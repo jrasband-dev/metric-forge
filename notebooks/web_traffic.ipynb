{
 "cells": [
  {
   "cell_type": "markdown",
   "metadata": {},
   "source": [
    "## Web Traffic"
   ]
  },
  {
   "cell_type": "code",
   "execution_count": null,
   "metadata": {},
   "outputs": [
    {
     "data": {
      "text/html": [
       "<div><style>\n",
       ".dataframe > thead > tr,\n",
       ".dataframe > tbody > tr {\n",
       "  text-align: right;\n",
       "  white-space: pre-wrap;\n",
       "}\n",
       "</style>\n",
       "<small>shape: (4, 8)</small><table border=\"1\" class=\"dataframe\"><thead><tr><th>total_duration</th><th>total_sessions</th><th>single_page_sessions</th><th>num_clicks</th><th>num_impressions</th><th>total_cost</th><th>exits</th><th>total_page_views</th></tr><tr><td>i64</td><td>i64</td><td>i64</td><td>i64</td><td>i64</td><td>i64</td><td>i64</td><td>i64</td></tr></thead><tbody><tr><td>1200</td><td>10</td><td>2</td><td>100</td><td>1000</td><td>50</td><td>5</td><td>50</td></tr><tr><td>1500</td><td>15</td><td>3</td><td>150</td><td>1500</td><td>75</td><td>7</td><td>70</td></tr><tr><td>60</td><td>2</td><td>1</td><td>0</td><td>0</td><td>0</td><td>2</td><td>20</td></tr><tr><td>2500</td><td>25</td><td>5</td><td>200</td><td>2000</td><td>100</td><td>10</td><td>100</td></tr></tbody></table></div>"
      ],
      "text/plain": [
       "shape: (4, 8)\n",
       "┌────────────────┬───────────────┬───────────────┬────────────┬───────────────┬────────────┬───────┬───────────────┐\n",
       "│ total_duration ┆ total_session ┆ single_page_s ┆ num_clicks ┆ num_impressio ┆ total_cost ┆ exits ┆ total_page_vi │\n",
       "│ ---            ┆ s             ┆ essions       ┆ ---        ┆ ns            ┆ ---        ┆ ---   ┆ ews           │\n",
       "│ i64            ┆ ---           ┆ ---           ┆ i64        ┆ ---           ┆ i64        ┆ i64   ┆ ---           │\n",
       "│                ┆ i64           ┆ i64           ┆            ┆ i64           ┆            ┆       ┆ i64           │\n",
       "╞════════════════╪═══════════════╪═══════════════╪════════════╪═══════════════╪════════════╪═══════╪═══════════════╡\n",
       "│ 1200           ┆ 10            ┆ 2             ┆ 100        ┆ 1000          ┆ 50         ┆ 5     ┆ 50            │\n",
       "│ 1500           ┆ 15            ┆ 3             ┆ 150        ┆ 1500          ┆ 75         ┆ 7     ┆ 70            │\n",
       "│ 60             ┆ 2             ┆ 1             ┆ 0          ┆ 0             ┆ 0          ┆ 2     ┆ 20            │\n",
       "│ 2500           ┆ 25            ┆ 5             ┆ 200        ┆ 2000          ┆ 100        ┆ 10    ┆ 100           │\n",
       "└────────────────┴───────────────┴───────────────┴────────────┴───────────────┴────────────┴───────┴───────────────┘"
      ]
     },
     "metadata": {},
     "output_type": "display_data"
    }
   ],
   "source": [
    "from metric_forge.web_traffic import *\n",
    "import polars as pl\n",
    "\n",
    "data = pl.read_csv('datasets/web_traffic.csv')\n",
    "data"
   ]
  },
  {
   "cell_type": "markdown",
   "metadata": {},
   "source": [
    "### Average Session Duration"
   ]
  },
  {
   "cell_type": "code",
   "execution_count": null,
   "metadata": {},
   "outputs": [
    {
     "data": {
      "text/html": [
       "<div><style>\n",
       ".dataframe > thead > tr,\n",
       ".dataframe > tbody > tr {\n",
       "  text-align: right;\n",
       "  white-space: pre-wrap;\n",
       "}\n",
       "</style>\n",
       "<small>shape: (4, 9)</small><table border=\"1\" class=\"dataframe\"><thead><tr><th>total_duration</th><th>total_sessions</th><th>single_page_sessions</th><th>num_clicks</th><th>num_impressions</th><th>total_cost</th><th>exits</th><th>total_page_views</th><th>average_session_duration</th></tr><tr><td>i64</td><td>i64</td><td>i64</td><td>i64</td><td>i64</td><td>i64</td><td>i64</td><td>i64</td><td>f64</td></tr></thead><tbody><tr><td>1200</td><td>10</td><td>2</td><td>100</td><td>1000</td><td>50</td><td>5</td><td>50</td><td>120.0</td></tr><tr><td>1500</td><td>15</td><td>3</td><td>150</td><td>1500</td><td>75</td><td>7</td><td>70</td><td>100.0</td></tr><tr><td>60</td><td>2</td><td>1</td><td>0</td><td>0</td><td>0</td><td>2</td><td>20</td><td>30.0</td></tr><tr><td>2500</td><td>25</td><td>5</td><td>200</td><td>2000</td><td>100</td><td>10</td><td>100</td><td>100.0</td></tr></tbody></table></div>"
      ],
      "text/plain": [
       "shape: (4, 9)\n",
       "┌───────────────┬───────────────┬──────────────┬────────────┬───┬────────────┬───────┬──────────────┬──────────────┐\n",
       "│ total_duratio ┆ total_session ┆ single_page_ ┆ num_clicks ┆ … ┆ total_cost ┆ exits ┆ total_page_v ┆ average_sess │\n",
       "│ n             ┆ s             ┆ sessions     ┆ ---        ┆   ┆ ---        ┆ ---   ┆ iews         ┆ ion_duration │\n",
       "│ ---           ┆ ---           ┆ ---          ┆ i64        ┆   ┆ i64        ┆ i64   ┆ ---          ┆ ---          │\n",
       "│ i64           ┆ i64           ┆ i64          ┆            ┆   ┆            ┆       ┆ i64          ┆ f64          │\n",
       "╞═══════════════╪═══════════════╪══════════════╪════════════╪═══╪════════════╪═══════╪══════════════╪══════════════╡\n",
       "│ 1200          ┆ 10            ┆ 2            ┆ 100        ┆ … ┆ 50         ┆ 5     ┆ 50           ┆ 120.0        │\n",
       "│ 1500          ┆ 15            ┆ 3            ┆ 150        ┆ … ┆ 75         ┆ 7     ┆ 70           ┆ 100.0        │\n",
       "│ 60            ┆ 2             ┆ 1            ┆ 0          ┆ … ┆ 0          ┆ 2     ┆ 20           ┆ 30.0         │\n",
       "│ 2500          ┆ 25            ┆ 5            ┆ 200        ┆ … ┆ 100        ┆ 10    ┆ 100          ┆ 100.0        │\n",
       "└───────────────┴───────────────┴──────────────┴────────────┴───┴────────────┴───────┴──────────────┴──────────────┘"
      ]
     },
     "metadata": {},
     "output_type": "display_data"
    }
   ],
   "source": [
    "data.with_columns(pl.col('*').forge_web_traffic.average_session_duration(total_duration_col='total_duration', total_sessions_col='total_sessions'))"
   ]
  },
  {
   "cell_type": "markdown",
   "metadata": {},
   "source": [
    "### Bounce Rate"
   ]
  },
  {
   "cell_type": "code",
   "execution_count": null,
   "metadata": {},
   "outputs": [
    {
     "data": {
      "text/html": [
       "<div><style>\n",
       ".dataframe > thead > tr,\n",
       ".dataframe > tbody > tr {\n",
       "  text-align: right;\n",
       "  white-space: pre-wrap;\n",
       "}\n",
       "</style>\n",
       "<small>shape: (4, 9)</small><table border=\"1\" class=\"dataframe\"><thead><tr><th>total_duration</th><th>total_sessions</th><th>single_page_sessions</th><th>num_clicks</th><th>num_impressions</th><th>total_cost</th><th>exits</th><th>total_page_views</th><th>bounce_rate</th></tr><tr><td>i64</td><td>i64</td><td>i64</td><td>i64</td><td>i64</td><td>i64</td><td>i64</td><td>i64</td><td>f64</td></tr></thead><tbody><tr><td>1200</td><td>10</td><td>2</td><td>100</td><td>1000</td><td>50</td><td>5</td><td>50</td><td>20.0</td></tr><tr><td>1500</td><td>15</td><td>3</td><td>150</td><td>1500</td><td>75</td><td>7</td><td>70</td><td>20.0</td></tr><tr><td>60</td><td>2</td><td>1</td><td>0</td><td>0</td><td>0</td><td>2</td><td>20</td><td>50.0</td></tr><tr><td>2500</td><td>25</td><td>5</td><td>200</td><td>2000</td><td>100</td><td>10</td><td>100</td><td>20.0</td></tr></tbody></table></div>"
      ],
      "text/plain": [
       "shape: (4, 9)\n",
       "┌───────────────┬───────────────┬───────────────┬────────────┬───┬────────────┬───────┬──────────────┬─────────────┐\n",
       "│ total_duratio ┆ total_session ┆ single_page_s ┆ num_clicks ┆ … ┆ total_cost ┆ exits ┆ total_page_v ┆ bounce_rate │\n",
       "│ n             ┆ s             ┆ essions       ┆ ---        ┆   ┆ ---        ┆ ---   ┆ iews         ┆ ---         │\n",
       "│ ---           ┆ ---           ┆ ---           ┆ i64        ┆   ┆ i64        ┆ i64   ┆ ---          ┆ f64         │\n",
       "│ i64           ┆ i64           ┆ i64           ┆            ┆   ┆            ┆       ┆ i64          ┆             │\n",
       "╞═══════════════╪═══════════════╪═══════════════╪════════════╪═══╪════════════╪═══════╪══════════════╪═════════════╡\n",
       "│ 1200          ┆ 10            ┆ 2             ┆ 100        ┆ … ┆ 50         ┆ 5     ┆ 50           ┆ 20.0        │\n",
       "│ 1500          ┆ 15            ┆ 3             ┆ 150        ┆ … ┆ 75         ┆ 7     ┆ 70           ┆ 20.0        │\n",
       "│ 60            ┆ 2             ┆ 1             ┆ 0          ┆ … ┆ 0          ┆ 2     ┆ 20           ┆ 50.0        │\n",
       "│ 2500          ┆ 25            ┆ 5             ┆ 200        ┆ … ┆ 100        ┆ 10    ┆ 100          ┆ 20.0        │\n",
       "└───────────────┴───────────────┴───────────────┴────────────┴───┴────────────┴───────┴──────────────┴─────────────┘"
      ]
     },
     "metadata": {},
     "output_type": "display_data"
    }
   ],
   "source": [
    "data.with_columns(pl.col('*').forge_web_traffic.bounce_rate(single_page_sessions_col='single_page_sessions', total_sessions_col='total_sessions'))"
   ]
  },
  {
   "cell_type": "markdown",
   "metadata": {},
   "source": [
    "### Click Through Rate"
   ]
  },
  {
   "cell_type": "code",
   "execution_count": null,
   "metadata": {},
   "outputs": [
    {
     "data": {
      "text/html": [
       "<div><style>\n",
       ".dataframe > thead > tr,\n",
       ".dataframe > tbody > tr {\n",
       "  text-align: right;\n",
       "  white-space: pre-wrap;\n",
       "}\n",
       "</style>\n",
       "<small>shape: (4, 9)</small><table border=\"1\" class=\"dataframe\"><thead><tr><th>total_duration</th><th>total_sessions</th><th>single_page_sessions</th><th>num_clicks</th><th>num_impressions</th><th>total_cost</th><th>exits</th><th>total_page_views</th><th>click_through_rate</th></tr><tr><td>i64</td><td>i64</td><td>i64</td><td>i64</td><td>i64</td><td>i64</td><td>i64</td><td>i64</td><td>f64</td></tr></thead><tbody><tr><td>1200</td><td>10</td><td>2</td><td>100</td><td>1000</td><td>50</td><td>5</td><td>50</td><td>10.0</td></tr><tr><td>1500</td><td>15</td><td>3</td><td>150</td><td>1500</td><td>75</td><td>7</td><td>70</td><td>10.0</td></tr><tr><td>60</td><td>2</td><td>1</td><td>0</td><td>0</td><td>0</td><td>2</td><td>20</td><td>NaN</td></tr><tr><td>2500</td><td>25</td><td>5</td><td>200</td><td>2000</td><td>100</td><td>10</td><td>100</td><td>10.0</td></tr></tbody></table></div>"
      ],
      "text/plain": [
       "shape: (4, 9)\n",
       "┌───────────────┬───────────────┬──────────────┬────────────┬───┬────────────┬───────┬──────────────┬──────────────┐\n",
       "│ total_duratio ┆ total_session ┆ single_page_ ┆ num_clicks ┆ … ┆ total_cost ┆ exits ┆ total_page_v ┆ click_throug │\n",
       "│ n             ┆ s             ┆ sessions     ┆ ---        ┆   ┆ ---        ┆ ---   ┆ iews         ┆ h_rate       │\n",
       "│ ---           ┆ ---           ┆ ---          ┆ i64        ┆   ┆ i64        ┆ i64   ┆ ---          ┆ ---          │\n",
       "│ i64           ┆ i64           ┆ i64          ┆            ┆   ┆            ┆       ┆ i64          ┆ f64          │\n",
       "╞═══════════════╪═══════════════╪══════════════╪════════════╪═══╪════════════╪═══════╪══════════════╪══════════════╡\n",
       "│ 1200          ┆ 10            ┆ 2            ┆ 100        ┆ … ┆ 50         ┆ 5     ┆ 50           ┆ 10.0         │\n",
       "│ 1500          ┆ 15            ┆ 3            ┆ 150        ┆ … ┆ 75         ┆ 7     ┆ 70           ┆ 10.0         │\n",
       "│ 60            ┆ 2             ┆ 1            ┆ 0          ┆ … ┆ 0          ┆ 2     ┆ 20           ┆ NaN          │\n",
       "│ 2500          ┆ 25            ┆ 5            ┆ 200        ┆ … ┆ 100        ┆ 10    ┆ 100          ┆ 10.0         │\n",
       "└───────────────┴───────────────┴──────────────┴────────────┴───┴────────────┴───────┴──────────────┴──────────────┘"
      ]
     },
     "metadata": {},
     "output_type": "display_data"
    }
   ],
   "source": [
    "data.with_columns(pl.col('*').forge_web_traffic.click_through_rate(num_clicks_col='num_clicks', num_impressions_col='num_impressions'))"
   ]
  },
  {
   "cell_type": "markdown",
   "metadata": {},
   "source": [
    "### Cost Per Click"
   ]
  },
  {
   "cell_type": "code",
   "execution_count": null,
   "metadata": {},
   "outputs": [
    {
     "data": {
      "text/html": [
       "<div><style>\n",
       ".dataframe > thead > tr,\n",
       ".dataframe > tbody > tr {\n",
       "  text-align: right;\n",
       "  white-space: pre-wrap;\n",
       "}\n",
       "</style>\n",
       "<small>shape: (4, 9)</small><table border=\"1\" class=\"dataframe\"><thead><tr><th>total_duration</th><th>total_sessions</th><th>single_page_sessions</th><th>num_clicks</th><th>num_impressions</th><th>total_cost</th><th>exits</th><th>total_page_views</th><th>cost_per_click</th></tr><tr><td>i64</td><td>i64</td><td>i64</td><td>i64</td><td>i64</td><td>i64</td><td>i64</td><td>i64</td><td>f64</td></tr></thead><tbody><tr><td>1200</td><td>10</td><td>2</td><td>100</td><td>1000</td><td>50</td><td>5</td><td>50</td><td>0.5</td></tr><tr><td>1500</td><td>15</td><td>3</td><td>150</td><td>1500</td><td>75</td><td>7</td><td>70</td><td>0.5</td></tr><tr><td>60</td><td>2</td><td>1</td><td>0</td><td>0</td><td>0</td><td>2</td><td>20</td><td>0.0</td></tr><tr><td>2500</td><td>25</td><td>5</td><td>200</td><td>2000</td><td>100</td><td>10</td><td>100</td><td>0.5</td></tr></tbody></table></div>"
      ],
      "text/plain": [
       "shape: (4, 9)\n",
       "┌───────────────┬───────────────┬──────────────┬────────────┬───┬────────────┬───────┬──────────────┬──────────────┐\n",
       "│ total_duratio ┆ total_session ┆ single_page_ ┆ num_clicks ┆ … ┆ total_cost ┆ exits ┆ total_page_v ┆ cost_per_cli │\n",
       "│ n             ┆ s             ┆ sessions     ┆ ---        ┆   ┆ ---        ┆ ---   ┆ iews         ┆ ck           │\n",
       "│ ---           ┆ ---           ┆ ---          ┆ i64        ┆   ┆ i64        ┆ i64   ┆ ---          ┆ ---          │\n",
       "│ i64           ┆ i64           ┆ i64          ┆            ┆   ┆            ┆       ┆ i64          ┆ f64          │\n",
       "╞═══════════════╪═══════════════╪══════════════╪════════════╪═══╪════════════╪═══════╪══════════════╪══════════════╡\n",
       "│ 1200          ┆ 10            ┆ 2            ┆ 100        ┆ … ┆ 50         ┆ 5     ┆ 50           ┆ 0.5          │\n",
       "│ 1500          ┆ 15            ┆ 3            ┆ 150        ┆ … ┆ 75         ┆ 7     ┆ 70           ┆ 0.5          │\n",
       "│ 60            ┆ 2             ┆ 1            ┆ 0          ┆ … ┆ 0          ┆ 2     ┆ 20           ┆ 0.0          │\n",
       "│ 2500          ┆ 25            ┆ 5            ┆ 200        ┆ … ┆ 100        ┆ 10    ┆ 100          ┆ 0.5          │\n",
       "└───────────────┴───────────────┴──────────────┴────────────┴───┴────────────┴───────┴──────────────┴──────────────┘"
      ]
     },
     "metadata": {},
     "output_type": "display_data"
    }
   ],
   "source": [
    "data.with_columns(pl.col('*').forge_web_traffic.cost_per_click(total_cost_col='total_cost',num_clicks_col='num_clicks'))"
   ]
  },
  {
   "cell_type": "markdown",
   "metadata": {},
   "source": [
    "### Exit Rate"
   ]
  },
  {
   "cell_type": "code",
   "execution_count": null,
   "metadata": {},
   "outputs": [
    {
     "data": {
      "text/html": [
       "<div><style>\n",
       ".dataframe > thead > tr,\n",
       ".dataframe > tbody > tr {\n",
       "  text-align: right;\n",
       "  white-space: pre-wrap;\n",
       "}\n",
       "</style>\n",
       "<small>shape: (4, 9)</small><table border=\"1\" class=\"dataframe\"><thead><tr><th>total_duration</th><th>total_sessions</th><th>single_page_sessions</th><th>num_clicks</th><th>num_impressions</th><th>total_cost</th><th>exits</th><th>total_page_views</th><th>exit_rate</th></tr><tr><td>i64</td><td>i64</td><td>i64</td><td>i64</td><td>i64</td><td>i64</td><td>i64</td><td>i64</td><td>f64</td></tr></thead><tbody><tr><td>1200</td><td>10</td><td>2</td><td>100</td><td>1000</td><td>50</td><td>5</td><td>50</td><td>10.0</td></tr><tr><td>1500</td><td>15</td><td>3</td><td>150</td><td>1500</td><td>75</td><td>7</td><td>70</td><td>10.0</td></tr><tr><td>60</td><td>2</td><td>1</td><td>0</td><td>0</td><td>0</td><td>2</td><td>20</td><td>10.0</td></tr><tr><td>2500</td><td>25</td><td>5</td><td>200</td><td>2000</td><td>100</td><td>10</td><td>100</td><td>10.0</td></tr></tbody></table></div>"
      ],
      "text/plain": [
       "shape: (4, 9)\n",
       "┌────────────────┬───────────────┬───────────────┬────────────┬───┬────────────┬───────┬───────────────┬───────────┐\n",
       "│ total_duration ┆ total_session ┆ single_page_s ┆ num_clicks ┆ … ┆ total_cost ┆ exits ┆ total_page_vi ┆ exit_rate │\n",
       "│ ---            ┆ s             ┆ essions       ┆ ---        ┆   ┆ ---        ┆ ---   ┆ ews           ┆ ---       │\n",
       "│ i64            ┆ ---           ┆ ---           ┆ i64        ┆   ┆ i64        ┆ i64   ┆ ---           ┆ f64       │\n",
       "│                ┆ i64           ┆ i64           ┆            ┆   ┆            ┆       ┆ i64           ┆           │\n",
       "╞════════════════╪═══════════════╪═══════════════╪════════════╪═══╪════════════╪═══════╪═══════════════╪═══════════╡\n",
       "│ 1200           ┆ 10            ┆ 2             ┆ 100        ┆ … ┆ 50         ┆ 5     ┆ 50            ┆ 10.0      │\n",
       "│ 1500           ┆ 15            ┆ 3             ┆ 150        ┆ … ┆ 75         ┆ 7     ┆ 70            ┆ 10.0      │\n",
       "│ 60             ┆ 2             ┆ 1             ┆ 0          ┆ … ┆ 0          ┆ 2     ┆ 20            ┆ 10.0      │\n",
       "│ 2500           ┆ 25            ┆ 5             ┆ 200        ┆ … ┆ 100        ┆ 10    ┆ 100           ┆ 10.0      │\n",
       "└────────────────┴───────────────┴───────────────┴────────────┴───┴────────────┴───────┴───────────────┴───────────┘"
      ]
     },
     "metadata": {},
     "output_type": "display_data"
    }
   ],
   "source": [
    "data.with_columns(pl.col('*').forge_web_traffic.exit_rate(exits_col='exits',total_page_views_col='total_page_views'))"
   ]
  },
  {
   "cell_type": "markdown",
   "metadata": {},
   "source": [
    "### Pages Per Session"
   ]
  },
  {
   "cell_type": "code",
   "execution_count": null,
   "metadata": {},
   "outputs": [
    {
     "data": {
      "text/html": [
       "<div><style>\n",
       ".dataframe > thead > tr,\n",
       ".dataframe > tbody > tr {\n",
       "  text-align: right;\n",
       "  white-space: pre-wrap;\n",
       "}\n",
       "</style>\n",
       "<small>shape: (4, 9)</small><table border=\"1\" class=\"dataframe\"><thead><tr><th>total_duration</th><th>total_sessions</th><th>single_page_sessions</th><th>num_clicks</th><th>num_impressions</th><th>total_cost</th><th>exits</th><th>total_page_views</th><th>pages_per_session</th></tr><tr><td>i64</td><td>i64</td><td>i64</td><td>i64</td><td>i64</td><td>i64</td><td>i64</td><td>i64</td><td>f64</td></tr></thead><tbody><tr><td>1200</td><td>10</td><td>2</td><td>100</td><td>1000</td><td>50</td><td>5</td><td>50</td><td>5.0</td></tr><tr><td>1500</td><td>15</td><td>3</td><td>150</td><td>1500</td><td>75</td><td>7</td><td>70</td><td>4.666667</td></tr><tr><td>60</td><td>2</td><td>1</td><td>0</td><td>0</td><td>0</td><td>2</td><td>20</td><td>10.0</td></tr><tr><td>2500</td><td>25</td><td>5</td><td>200</td><td>2000</td><td>100</td><td>10</td><td>100</td><td>4.0</td></tr></tbody></table></div>"
      ],
      "text/plain": [
       "shape: (4, 9)\n",
       "┌───────────────┬───────────────┬──────────────┬────────────┬───┬────────────┬───────┬──────────────┬──────────────┐\n",
       "│ total_duratio ┆ total_session ┆ single_page_ ┆ num_clicks ┆ … ┆ total_cost ┆ exits ┆ total_page_v ┆ pages_per_se │\n",
       "│ n             ┆ s             ┆ sessions     ┆ ---        ┆   ┆ ---        ┆ ---   ┆ iews         ┆ ssion        │\n",
       "│ ---           ┆ ---           ┆ ---          ┆ i64        ┆   ┆ i64        ┆ i64   ┆ ---          ┆ ---          │\n",
       "│ i64           ┆ i64           ┆ i64          ┆            ┆   ┆            ┆       ┆ i64          ┆ f64          │\n",
       "╞═══════════════╪═══════════════╪══════════════╪════════════╪═══╪════════════╪═══════╪══════════════╪══════════════╡\n",
       "│ 1200          ┆ 10            ┆ 2            ┆ 100        ┆ … ┆ 50         ┆ 5     ┆ 50           ┆ 5.0          │\n",
       "│ 1500          ┆ 15            ┆ 3            ┆ 150        ┆ … ┆ 75         ┆ 7     ┆ 70           ┆ 4.666667     │\n",
       "│ 60            ┆ 2             ┆ 1            ┆ 0          ┆ … ┆ 0          ┆ 2     ┆ 20           ┆ 10.0         │\n",
       "│ 2500          ┆ 25            ┆ 5            ┆ 200        ┆ … ┆ 100        ┆ 10    ┆ 100          ┆ 4.0          │\n",
       "└───────────────┴───────────────┴──────────────┴────────────┴───┴────────────┴───────┴──────────────┴──────────────┘"
      ]
     },
     "metadata": {},
     "output_type": "display_data"
    }
   ],
   "source": [
    "data.with_columns(pl.col('*').forge_web_traffic.pages_per_session(total_page_views_col='total_page_views',total_sessions_col='total_sessions'))"
   ]
  }
 ],
 "metadata": {
  "language_info": {
   "name": "python"
  }
 },
 "nbformat": 4,
 "nbformat_minor": 2
}
