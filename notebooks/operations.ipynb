{
 "cells": [
  {
   "cell_type": "markdown",
   "metadata": {},
   "source": [
    "## Operations"
   ]
  },
  {
   "cell_type": "code",
   "execution_count": null,
   "metadata": {},
   "outputs": [
    {
     "data": {
      "text/html": [
       "<div><style>\n",
       ".dataframe > thead > tr,\n",
       ".dataframe > tbody > tr {\n",
       "  text-align: right;\n",
       "  white-space: pre-wrap;\n",
       "}\n",
       "</style>\n",
       "<small>shape: (3, 11)</small><table border=\"1\" class=\"dataframe\"><thead><tr><th>total_production_time</th><th>units_produced</th><th>time_period</th><th>availability</th><th>performance</th><th>quality</th><th>actual_output</th><th>potential_output</th><th>defective_units</th><th>total_units_produced</th><th>cycle_time</th></tr><tr><td>i64</td><td>i64</td><td>i64</td><td>f64</td><td>f64</td><td>f64</td><td>i64</td><td>i64</td><td>i64</td><td>i64</td><td>f64</td></tr></thead><tbody><tr><td>1200</td><td>100</td><td>10</td><td>0.95</td><td>0.9</td><td>0.98</td><td>950</td><td>1000</td><td>2</td><td>100</td><td>12.0</td></tr><tr><td>1300</td><td>110</td><td>10</td><td>0.9</td><td>0.85</td><td>0.97</td><td>980</td><td>1000</td><td>3</td><td>110</td><td>11.818182</td></tr><tr><td>1100</td><td>95</td><td>10</td><td>0.88</td><td>0.87</td><td>0.96</td><td>900</td><td>1000</td><td>4</td><td>95</td><td>11.578947</td></tr></tbody></table></div>"
      ],
      "text/plain": [
       "shape: (3, 11)\n",
       "┌─────────────┬─────────────┬─────────────┬─────────────┬───┬─────────────┬─────────────┬─────────────┬────────────┐\n",
       "│ total_produ ┆ units_produ ┆ time_period ┆ availabilit ┆ … ┆ potential_o ┆ defective_u ┆ total_units ┆ cycle_time │\n",
       "│ ction_time  ┆ ced         ┆ ---         ┆ y           ┆   ┆ utput       ┆ nits        ┆ _produced   ┆ ---        │\n",
       "│ ---         ┆ ---         ┆ i64         ┆ ---         ┆   ┆ ---         ┆ ---         ┆ ---         ┆ f64        │\n",
       "│ i64         ┆ i64         ┆             ┆ f64         ┆   ┆ i64         ┆ i64         ┆ i64         ┆            │\n",
       "╞═════════════╪═════════════╪═════════════╪═════════════╪═══╪═════════════╪═════════════╪═════════════╪════════════╡\n",
       "│ 1200        ┆ 100         ┆ 10          ┆ 0.95        ┆ … ┆ 1000        ┆ 2           ┆ 100         ┆ 12.0       │\n",
       "│ 1300        ┆ 110         ┆ 10          ┆ 0.9         ┆ … ┆ 1000        ┆ 3           ┆ 110         ┆ 11.818182  │\n",
       "│ 1100        ┆ 95          ┆ 10          ┆ 0.88        ┆ … ┆ 1000        ┆ 4           ┆ 95          ┆ 11.578947  │\n",
       "└─────────────┴─────────────┴─────────────┴─────────────┴───┴─────────────┴─────────────┴─────────────┴────────────┘"
      ]
     },
     "metadata": {},
     "output_type": "display_data"
    }
   ],
   "source": [
    "import polars as pl\n",
    "\n",
    "from metric_forge import *\n",
    "\n",
    "df = pl.DataFrame({\n",
    "    \"total_production_time\": [1200, 1300, 1100],\n",
    "    \"units_produced\": [100, 110, 95],\n",
    "    \"time_period\": [10, 10, 10],\n",
    "    \"availability\": [0.95, 0.90, 0.88],\n",
    "    \"performance\": [0.90, 0.85, 0.87],\n",
    "    \"quality\": [0.98, 0.97, 0.96],\n",
    "    \"actual_output\": [950, 980, 900],\n",
    "    \"potential_output\": [1000, 1000, 1000],\n",
    "    \"defective_units\": [2, 3, 4],\n",
    "    \"total_units_produced\": [100, 110, 95],\n",
    "    # \"order_date\": [pl.datetime(2023, 9, 1), pl.datetime(2023, 9, 2), pl.datetime(2023, 9, 3)],\n",
    "    # \"delivery_date\": [pl.datetime(2023, 9, 5), pl.datetime(2023, 9, 6), pl.datetime(2023, 9, 7)]\n",
    "})\n",
    "\n",
    "df = df.with_columns(\n",
    "    pl.col('*').forge_operations.cycle_time(\"total_production_time\", \"units_produced\"),\n",
    "    # pl.col('*').forge_operations.throughput(\"units_produced\", \"time_period\"),\n",
    "    # pl.col('*').forge_operations.oee(\"availability\", \"performance\", \"quality\"),\n",
    "    # pl.col('*').forge_operations.capacity_utilization(\"actual_output\", \"potential_output\"),\n",
    "    # pl.col('*').forge_operations.defect_rate(\"defective_units\", \"total_units_produced\"),\n",
    "    # pl.col('*').forge_operations.lead_time(\"order_date\", \"delivery_date\")\n",
    ")\n",
    "\n",
    "df\n"
   ]
  }
 ],
 "metadata": {
  "language_info": {
   "name": "python"
  }
 },
 "nbformat": 4,
 "nbformat_minor": 2
}
