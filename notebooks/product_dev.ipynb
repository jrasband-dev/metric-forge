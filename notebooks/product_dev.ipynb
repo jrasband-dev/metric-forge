{
 "cells": [
  {
   "cell_type": "markdown",
   "metadata": {},
   "source": [
    "## Product Development\n",
    "You can use Product Development Metrics in two different ways:\n",
    "* With Polars\n",
    "* As a Single Value Function (SVF)\n",
    "\n",
    "Metric Forge extends the Polars expression library; making it possible to perform row-wise-calculations for various metrics. In addition to mass calculations, you can also perform single value calculations that return just one value. "
   ]
  },
  {
   "cell_type": "markdown",
   "metadata": {},
   "source": [
    "### Underserved Customer Needs"
   ]
  },
  {
   "cell_type": "code",
   "execution_count": null,
   "metadata": {},
   "outputs": [
    {
     "data": {
      "text/html": [
       "<div><style>\n",
       ".dataframe > thead > tr,\n",
       ".dataframe > tbody > tr {\n",
       "  text-align: right;\n",
       "  white-space: pre-wrap;\n",
       "}\n",
       "</style>\n",
       "<small>shape: (10, 3)</small><table border=\"1\" class=\"dataframe\"><thead><tr><th>importance_score</th><th>satisfaction_score</th><th>opportunity_score</th></tr><tr><td>i64</td><td>i64</td><td>f64</td></tr></thead><tbody><tr><td>8</td><td>7</td><td>9.0</td></tr><tr><td>6</td><td>8</td><td>4.0</td></tr><tr><td>7</td><td>9</td><td>5.0</td></tr><tr><td>8</td><td>7</td><td>9.0</td></tr><tr><td>6</td><td>6</td><td>6.0</td></tr><tr><td>9</td><td>8</td><td>10.0</td></tr><tr><td>7</td><td>9</td><td>5.0</td></tr><tr><td>6</td><td>7</td><td>5.0</td></tr><tr><td>9</td><td>8</td><td>10.0</td></tr><tr><td>8</td><td>7</td><td>9.0</td></tr></tbody></table></div>"
      ],
      "text/plain": [
       "shape: (10, 3)\n",
       "┌──────────────────┬────────────────────┬───────────────────┐\n",
       "│ importance_score ┆ satisfaction_score ┆ opportunity_score │\n",
       "│ ---              ┆ ---                ┆ ---               │\n",
       "│ i64              ┆ i64                ┆ f64               │\n",
       "╞══════════════════╪════════════════════╪═══════════════════╡\n",
       "│ 8                ┆ 7                  ┆ 9.0               │\n",
       "│ 6                ┆ 8                  ┆ 4.0               │\n",
       "│ 7                ┆ 9                  ┆ 5.0               │\n",
       "│ 8                ┆ 7                  ┆ 9.0               │\n",
       "│ 6                ┆ 6                  ┆ 6.0               │\n",
       "│ 9                ┆ 8                  ┆ 10.0              │\n",
       "│ 7                ┆ 9                  ┆ 5.0               │\n",
       "│ 6                ┆ 7                  ┆ 5.0               │\n",
       "│ 9                ┆ 8                  ┆ 10.0              │\n",
       "│ 8                ┆ 7                  ┆ 9.0               │\n",
       "└──────────────────┴────────────────────┴───────────────────┘"
      ]
     },
     "metadata": {},
     "output_type": "display_data"
    }
   ],
   "source": [
    "data.select(pl.col('importance_score'),\n",
    "            pl.col('satisfaction_score'),\n",
    "            pl.col('*').forge_product_dev.opportunity_score(importance_col='importance_score',satisfaction_col='satisfaction_score'))\n"
   ]
  },
  {
   "cell_type": "code",
   "execution_count": null,
   "metadata": {},
   "outputs": [
    {
     "data": {
      "text/html": [
       "<div><style>\n",
       ".dataframe > thead > tr,\n",
       ".dataframe > tbody > tr {\n",
       "  text-align: right;\n",
       "  white-space: pre-wrap;\n",
       "}\n",
       "</style>\n",
       "<small>shape: (10, 3)</small><table border=\"1\" class=\"dataframe\"><thead><tr><th>importance_score</th><th>satisfaction_score</th><th>customer_value_delivered</th></tr><tr><td>i64</td><td>i64</td><td>f64</td></tr></thead><tbody><tr><td>8</td><td>7</td><td>0.56</td></tr><tr><td>6</td><td>8</td><td>0.48</td></tr><tr><td>7</td><td>9</td><td>0.63</td></tr><tr><td>8</td><td>7</td><td>0.56</td></tr><tr><td>6</td><td>6</td><td>0.36</td></tr><tr><td>9</td><td>8</td><td>0.72</td></tr><tr><td>7</td><td>9</td><td>0.63</td></tr><tr><td>6</td><td>7</td><td>0.42</td></tr><tr><td>9</td><td>8</td><td>0.72</td></tr><tr><td>8</td><td>7</td><td>0.56</td></tr></tbody></table></div>"
      ],
      "text/plain": [
       "shape: (10, 3)\n",
       "┌──────────────────┬────────────────────┬──────────────────────────┐\n",
       "│ importance_score ┆ satisfaction_score ┆ customer_value_delivered │\n",
       "│ ---              ┆ ---                ┆ ---                      │\n",
       "│ i64              ┆ i64                ┆ f64                      │\n",
       "╞══════════════════╪════════════════════╪══════════════════════════╡\n",
       "│ 8                ┆ 7                  ┆ 0.56                     │\n",
       "│ 6                ┆ 8                  ┆ 0.48                     │\n",
       "│ 7                ┆ 9                  ┆ 0.63                     │\n",
       "│ 8                ┆ 7                  ┆ 0.56                     │\n",
       "│ 6                ┆ 6                  ┆ 0.36                     │\n",
       "│ 9                ┆ 8                  ┆ 0.72                     │\n",
       "│ 7                ┆ 9                  ┆ 0.63                     │\n",
       "│ 6                ┆ 7                  ┆ 0.42                     │\n",
       "│ 9                ┆ 8                  ┆ 0.72                     │\n",
       "│ 8                ┆ 7                  ┆ 0.56                     │\n",
       "└──────────────────┴────────────────────┴──────────────────────────┘"
      ]
     },
     "metadata": {},
     "output_type": "display_data"
    }
   ],
   "source": [
    "data.select(pl.col('importance_score'),\n",
    "            pl.col('satisfaction_score'),\n",
    "            pl.col('*').forge_product_dev.customer_value_delivered(importance_col='importance_score',satisfaction_col='satisfaction_score'))\n"
   ]
  },
  {
   "cell_type": "code",
   "execution_count": null,
   "metadata": {},
   "outputs": [
    {
     "data": {
      "text/html": [
       "<div><style>\n",
       ".dataframe > thead > tr,\n",
       ".dataframe > tbody > tr {\n",
       "  text-align: right;\n",
       "  white-space: pre-wrap;\n",
       "}\n",
       "</style>\n",
       "<small>shape: (10, 3)</small><table border=\"1\" class=\"dataframe\"><thead><tr><th>importance_score</th><th>satisfaction_score</th><th>opp_to_add_value</th></tr><tr><td>i64</td><td>i64</td><td>f64</td></tr></thead><tbody><tr><td>8</td><td>7</td><td>0.24</td></tr><tr><td>6</td><td>8</td><td>0.12</td></tr><tr><td>7</td><td>9</td><td>0.07</td></tr><tr><td>8</td><td>7</td><td>0.24</td></tr><tr><td>6</td><td>6</td><td>0.24</td></tr><tr><td>9</td><td>8</td><td>0.18</td></tr><tr><td>7</td><td>9</td><td>0.07</td></tr><tr><td>6</td><td>7</td><td>0.18</td></tr><tr><td>9</td><td>8</td><td>0.18</td></tr><tr><td>8</td><td>7</td><td>0.24</td></tr></tbody></table></div>"
      ],
      "text/plain": [
       "shape: (10, 3)\n",
       "┌──────────────────┬────────────────────┬──────────────────┐\n",
       "│ importance_score ┆ satisfaction_score ┆ opp_to_add_value │\n",
       "│ ---              ┆ ---                ┆ ---              │\n",
       "│ i64              ┆ i64                ┆ f64              │\n",
       "╞══════════════════╪════════════════════╪══════════════════╡\n",
       "│ 8                ┆ 7                  ┆ 0.24             │\n",
       "│ 6                ┆ 8                  ┆ 0.12             │\n",
       "│ 7                ┆ 9                  ┆ 0.07             │\n",
       "│ 8                ┆ 7                  ┆ 0.24             │\n",
       "│ 6                ┆ 6                  ┆ 0.24             │\n",
       "│ 9                ┆ 8                  ┆ 0.18             │\n",
       "│ 7                ┆ 9                  ┆ 0.07             │\n",
       "│ 6                ┆ 7                  ┆ 0.18             │\n",
       "│ 9                ┆ 8                  ┆ 0.18             │\n",
       "│ 8                ┆ 7                  ┆ 0.24             │\n",
       "└──────────────────┴────────────────────┴──────────────────┘"
      ]
     },
     "metadata": {},
     "output_type": "display_data"
    }
   ],
   "source": [
    "data.select(pl.col('importance_score'),\n",
    "            pl.col('satisfaction_score'),\n",
    "            pl.col('*').forge_product_dev.opportunity_to_add_value(importance_col='importance_score',satisfaction_col='satisfaction_score'))"
   ]
  },
  {
   "cell_type": "code",
   "execution_count": null,
   "metadata": {},
   "outputs": [
    {
     "data": {
      "text/html": [
       "<div><style>\n",
       ".dataframe > thead > tr,\n",
       ".dataframe > tbody > tr {\n",
       "  text-align: right;\n",
       "  white-space: pre-wrap;\n",
       "}\n",
       "</style>\n",
       "<small>shape: (10, 4)</small><table border=\"1\" class=\"dataframe\"><thead><tr><th>importance_score</th><th>satisfaction_score_before</th><th>satisfaction_score_after</th><th>customer_value_created</th></tr><tr><td>i64</td><td>i64</td><td>i64</td><td>f64</td></tr></thead><tbody><tr><td>8</td><td>7</td><td>9</td><td>0.16</td></tr><tr><td>9</td><td>8</td><td>9</td><td>0.09</td></tr><tr><td>7</td><td>9</td><td>8</td><td>-0.07</td></tr><tr><td>8</td><td>7</td><td>8</td><td>0.08</td></tr><tr><td>6</td><td>6</td><td>8</td><td>0.12</td></tr><tr><td>9</td><td>8</td><td>9</td><td>0.09</td></tr><tr><td>7</td><td>9</td><td>8</td><td>-0.07</td></tr><tr><td>6</td><td>7</td><td>6</td><td>-0.06</td></tr><tr><td>9</td><td>8</td><td>8</td><td>0.0</td></tr><tr><td>8</td><td>7</td><td>7</td><td>0.0</td></tr></tbody></table></div>"
      ],
      "text/plain": [
       "shape: (10, 4)\n",
       "┌──────────────────┬───────────────────────────┬──────────────────────────┬────────────────────────┐\n",
       "│ importance_score ┆ satisfaction_score_before ┆ satisfaction_score_after ┆ customer_value_created │\n",
       "│ ---              ┆ ---                       ┆ ---                      ┆ ---                    │\n",
       "│ i64              ┆ i64                       ┆ i64                      ┆ f64                    │\n",
       "╞══════════════════╪═══════════════════════════╪══════════════════════════╪════════════════════════╡\n",
       "│ 8                ┆ 7                         ┆ 9                        ┆ 0.16                   │\n",
       "│ 9                ┆ 8                         ┆ 9                        ┆ 0.09                   │\n",
       "│ 7                ┆ 9                         ┆ 8                        ┆ -0.07                  │\n",
       "│ 8                ┆ 7                         ┆ 8                        ┆ 0.08                   │\n",
       "│ 6                ┆ 6                         ┆ 8                        ┆ 0.12                   │\n",
       "│ 9                ┆ 8                         ┆ 9                        ┆ 0.09                   │\n",
       "│ 7                ┆ 9                         ┆ 8                        ┆ -0.07                  │\n",
       "│ 6                ┆ 7                         ┆ 6                        ┆ -0.06                  │\n",
       "│ 9                ┆ 8                         ┆ 8                        ┆ 0.0                    │\n",
       "│ 8                ┆ 7                         ┆ 7                        ┆ 0.0                    │\n",
       "└──────────────────┴───────────────────────────┴──────────────────────────┴────────────────────────┘"
      ]
     },
     "metadata": {},
     "output_type": "display_data"
    }
   ],
   "source": [
    "import polars as pl\n",
    "data = pl.read_csv('datasets/customer-value-added.csv')\n",
    "\n",
    "data.select(pl.col('importance_score'),\n",
    "            pl.col('satisfaction_score_before'),\n",
    "            pl.col('satisfaction_score_after'),\n",
    "            pl.col('*').forge_product_dev.customer_value_created(importance_col='importance_score'\n",
    "                       ,satisfaction_after_col='satisfaction_score_after'\n",
    "                       ,satisfaction_before_col='satisfaction_score_before'))\n"
   ]
  }
 ],
 "metadata": {
  "language_info": {
   "name": "python"
  }
 },
 "nbformat": 4,
 "nbformat_minor": 2
}
