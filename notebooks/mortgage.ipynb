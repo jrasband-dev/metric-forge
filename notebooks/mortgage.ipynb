{
 "cells": [
  {
   "cell_type": "markdown",
   "metadata": {},
   "source": [
    "## Mortgage\n",
    "\n",
    "The Mortgage module contains mortgage objects that you enable you to assess mortgage metrics. You need to define these objects prior to running calcuations. "
   ]
  },
  {
   "cell_type": "code",
   "execution_count": null,
   "metadata": {},
   "outputs": [
    {
     "data": {
      "text/plain": [
       "2275.934140129842"
      ]
     },
     "metadata": {},
     "output_type": "display_data"
    }
   ],
   "source": [
    "from metric_forge.mortgage import *\n",
    "\n",
    "mortgage = Mortgage(principal=390000,annual_interest_rate=5.75,start_date='2023-09-01',term_years=30,extra_principal_payment=200)\n",
    "mortgage.calculate_monthly_payment()\n"
   ]
  },
  {
   "cell_type": "code",
   "execution_count": null,
   "metadata": {},
   "outputs": [
    {
     "data": {
      "text/html": [
       "<div><style>\n",
       ".dataframe > thead > tr,\n",
       ".dataframe > tbody > tr {\n",
       "  text-align: right;\n",
       "  white-space: pre-wrap;\n",
       "}\n",
       "</style>\n",
       "<small>shape: (360, 6)</small><table border=\"1\" class=\"dataframe\"><thead><tr><th>payment_number</th><th>payment_date</th><th>payment</th><th>interest_payment</th><th>principal_payment</th><th>principal_remaining</th></tr><tr><td>i64</td><td>str</td><td>f64</td><td>f64</td><td>f64</td><td>f64</td></tr></thead><tbody><tr><td>1</td><td>&quot;2023-10-01&quot;</td><td>2275.93414</td><td>1868.75</td><td>407.18414</td><td>389592.81586</td></tr><tr><td>2</td><td>&quot;2023-10-31&quot;</td><td>2275.93414</td><td>1866.798909</td><td>409.135231</td><td>389183.680629</td></tr><tr><td>3</td><td>&quot;2023-11-30&quot;</td><td>2275.93414</td><td>1864.83847</td><td>411.09567</td><td>388772.584959</td></tr><tr><td>4</td><td>&quot;2023-12-30&quot;</td><td>2275.93414</td><td>1862.868636</td><td>413.065504</td><td>388359.519455</td></tr><tr><td>5</td><td>&quot;2024-01-29&quot;</td><td>2275.93414</td><td>1860.889364</td><td>415.044776</td><td>387944.474679</td></tr><tr><td>&hellip;</td><td>&hellip;</td><td>&hellip;</td><td>&hellip;</td><td>&hellip;</td><td>&hellip;</td></tr><tr><td>356</td><td>&quot;2052-11-27&quot;</td><td>2275.93414</td><td>53.752435</td><td>2222.181705</td><td>8995.717798</td></tr><tr><td>357</td><td>&quot;2052-12-27&quot;</td><td>2275.93414</td><td>43.104481</td><td>2232.829659</td><td>6762.888139</td></tr><tr><td>358</td><td>&quot;2053-01-26&quot;</td><td>2275.93414</td><td>32.405506</td><td>2243.528634</td><td>4519.359505</td></tr><tr><td>359</td><td>&quot;2053-02-25&quot;</td><td>2275.93414</td><td>21.655264</td><td>2254.278876</td><td>2265.080629</td></tr><tr><td>360</td><td>&quot;2053-03-27&quot;</td><td>2275.93414</td><td>10.853511</td><td>2265.080629</td><td>1.2655e-8</td></tr></tbody></table></div>"
      ],
      "text/plain": [
       "shape: (360, 6)\n",
       "┌────────────────┬──────────────┬────────────┬──────────────────┬───────────────────┬─────────────────────┐\n",
       "│ payment_number ┆ payment_date ┆ payment    ┆ interest_payment ┆ principal_payment ┆ principal_remaining │\n",
       "│ ---            ┆ ---          ┆ ---        ┆ ---              ┆ ---               ┆ ---                 │\n",
       "│ i64            ┆ str          ┆ f64        ┆ f64              ┆ f64               ┆ f64                 │\n",
       "╞════════════════╪══════════════╪════════════╪══════════════════╪═══════════════════╪═════════════════════╡\n",
       "│ 1              ┆ 2023-10-01   ┆ 2275.93414 ┆ 1868.75          ┆ 407.18414         ┆ 389592.81586        │\n",
       "│ 2              ┆ 2023-10-31   ┆ 2275.93414 ┆ 1866.798909      ┆ 409.135231        ┆ 389183.680629       │\n",
       "│ 3              ┆ 2023-11-30   ┆ 2275.93414 ┆ 1864.83847       ┆ 411.09567         ┆ 388772.584959       │\n",
       "│ 4              ┆ 2023-12-30   ┆ 2275.93414 ┆ 1862.868636      ┆ 413.065504        ┆ 388359.519455       │\n",
       "│ 5              ┆ 2024-01-29   ┆ 2275.93414 ┆ 1860.889364      ┆ 415.044776        ┆ 387944.474679       │\n",
       "│ …              ┆ …            ┆ …          ┆ …                ┆ …                 ┆ …                   │\n",
       "│ 356            ┆ 2052-11-27   ┆ 2275.93414 ┆ 53.752435        ┆ 2222.181705       ┆ 8995.717798         │\n",
       "│ 357            ┆ 2052-12-27   ┆ 2275.93414 ┆ 43.104481        ┆ 2232.829659       ┆ 6762.888139         │\n",
       "│ 358            ┆ 2053-01-26   ┆ 2275.93414 ┆ 32.405506        ┆ 2243.528634       ┆ 4519.359505         │\n",
       "│ 359            ┆ 2053-02-25   ┆ 2275.93414 ┆ 21.655264        ┆ 2254.278876       ┆ 2265.080629         │\n",
       "│ 360            ┆ 2053-03-27   ┆ 2275.93414 ┆ 10.853511        ┆ 2265.080629       ┆ 1.2655e-8           │\n",
       "└────────────────┴──────────────┴────────────┴──────────────────┴───────────────────┴─────────────────────┘"
      ]
     },
     "metadata": {},
     "output_type": "display_data"
    }
   ],
   "source": [
    "mortgage.generate_amortization_schedule()"
   ]
  },
  {
   "cell_type": "code",
   "execution_count": null,
   "metadata": {},
   "outputs": [
    {
     "data": {
      "text/plain": [
       "{'new_term_years': 24.502707600761994, 'time_saved_years': 5.497292399238006}"
      ]
     },
     "metadata": {},
     "output_type": "display_data"
    }
   ],
   "source": [
    "mortgage.calculate_principal_only_payment()"
   ]
  },
  {
   "cell_type": "code",
   "execution_count": null,
   "metadata": {},
   "outputs": [
    {
     "data": {
      "text/plain": [
       "{'Old Monthly Payment': 2275.934140129842,\n",
       " 'New Monthly Payment': 1877.492587282451,\n",
       " 'Monthly Savings': 398.441552847391,\n",
       " 'Break-Even Point (months)': 12.548891962367875,\n",
       " 'Total Savings (over the loan term)': 138438.95902506076,\n",
       " 'Should Refinance': True}"
      ]
     },
     "metadata": {},
     "output_type": "display_data"
    }
   ],
   "source": [
    "mortgage.refinance_assessment(RefinanceOption(new_loan_amount=340000,new_annual_interest_rate=5.25,new_term_years=30,associated_costs=5000))\n"
   ]
  }
 ],
 "metadata": {
  "language_info": {
   "name": "python"
  }
 },
 "nbformat": 4,
 "nbformat_minor": 2
}
