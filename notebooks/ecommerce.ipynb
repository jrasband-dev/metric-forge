{
 "cells": [
  {
   "cell_type": "markdown",
   "metadata": {},
   "source": [
    "## Ecommerce\n",
    "You can use Ecommerce Metrics in two different ways:\n",
    "* With Polars\n",
    "* As a Single Value Function (SVF)\n",
    "\n",
    "Metric Forge extends the Polars expression library; making it possible to perform row-wise-calculations for various metrics. In addition to mass calculations, you can also perform single value calculations that return just one value. "
   ]
  },
  {
   "cell_type": "code",
   "execution_count": null,
   "metadata": {},
   "outputs": [
    {
     "data": {
      "text/html": [
       "<div><style>\n",
       ".dataframe > thead > tr,\n",
       ".dataframe > tbody > tr {\n",
       "  text-align: right;\n",
       "  white-space: pre-wrap;\n",
       "}\n",
       "</style>\n",
       "<small>shape: (5, 15)</small><table border=\"1\" class=\"dataframe\"><thead><tr><th>month</th><th>total_revenue</th><th>number_of_orders</th><th>cost_of_acquisition</th><th>new_customers</th><th>carts_created</th><th>completed_purchases</th><th>revenue_from_ads</th><th>advertising_spend</th><th>num_conversions</th><th>num_visitors</th><th>revenue_per_customer</th><th>average_customer_lifetime</th><th>num_customers_lost</th><th>total_customers_beginning</th></tr><tr><td>str</td><td>f64</td><td>i64</td><td>f64</td><td>i64</td><td>i64</td><td>i64</td><td>f64</td><td>f64</td><td>i64</td><td>i64</td><td>f64</td><td>f64</td><td>i64</td><td>i64</td></tr></thead><tbody><tr><td>&quot;2023-01&quot;</td><td>87454.011885</td><td>991</td><td>22958.350559</td><td>406</td><td>1969</td><td>1425</td><td>81339.957696</td><td>5390.910169</td><td>300</td><td>13154</td><td>202.427329</td><td>3.159364</td><td>239</td><td>3306</td></tr><tr><td>&quot;2023-02&quot;</td><td>145071.430641</td><td>913</td><td>18736.874206</td><td>234</td><td>1506</td><td>1421</td><td>76875.083402</td><td>15585.037018</td><td>427</td><td>14762</td><td>116.173436</td><td>1.812245</td><td>124</td><td>4680</td></tr><tr><td>&quot;2023-03&quot;</td><td>123199.394181</td><td>1305</td><td>28355.586842</td><td>120</td><td>1497</td><td>965</td><td>116505.482191</td><td>14872.037954</td><td>367</td><td>10056</td><td>384.265156</td><td>4.771414</td><td>177</td><td>4675</td></tr><tr><td>&quot;2023-04&quot;</td><td>109865.84842</td><td>885</td><td>14184.81582</td><td>428</td><td>1963</td><td>1102</td><td>106008.046381</td><td>12337.204368</td><td>132</td><td>19948</td><td>144.356328</td><td>3.395462</td><td>299</td><td>2972</td></tr><tr><td>&quot;2023-05&quot;</td><td>65601.864044</td><td>691</td><td>18764.339456</td><td>266</td><td>1009</td><td>801</td><td>97258.809912</td><td>5351.995568</td><td>147</td><td>13110</td><td>275.734601</td><td>3.77914</td><td>296</td><td>3768</td></tr></tbody></table></div>"
      ],
      "text/plain": [
       "shape: (5, 15)\n",
       "┌─────────┬──────────────┬──────────────┬──────────────┬───┬─────────────┬─────────────┬─────────────┬─────────────┐\n",
       "│ month   ┆ total_revenu ┆ number_of_or ┆ cost_of_acqu ┆ … ┆ revenue_per ┆ average_cus ┆ num_custome ┆ total_custo │\n",
       "│ ---     ┆ e            ┆ ders         ┆ isition      ┆   ┆ _customer   ┆ tomer_lifet ┆ rs_lost     ┆ mers_beginn │\n",
       "│ str     ┆ ---          ┆ ---          ┆ ---          ┆   ┆ ---         ┆ ime         ┆ ---         ┆ ing         │\n",
       "│         ┆ f64          ┆ i64          ┆ f64          ┆   ┆ f64         ┆ ---         ┆ i64         ┆ ---         │\n",
       "│         ┆              ┆              ┆              ┆   ┆             ┆ f64         ┆             ┆ i64         │\n",
       "╞═════════╪══════════════╪══════════════╪══════════════╪═══╪═════════════╪═════════════╪═════════════╪═════════════╡\n",
       "│ 2023-01 ┆ 87454.011885 ┆ 991          ┆ 22958.350559 ┆ … ┆ 202.427329  ┆ 3.159364    ┆ 239         ┆ 3306        │\n",
       "│ 2023-02 ┆ 145071.43064 ┆ 913          ┆ 18736.874206 ┆ … ┆ 116.173436  ┆ 1.812245    ┆ 124         ┆ 4680        │\n",
       "│         ┆ 1            ┆              ┆              ┆   ┆             ┆             ┆             ┆             │\n",
       "│ 2023-03 ┆ 123199.39418 ┆ 1305         ┆ 28355.586842 ┆ … ┆ 384.265156  ┆ 4.771414    ┆ 177         ┆ 4675        │\n",
       "│         ┆ 1            ┆              ┆              ┆   ┆             ┆             ┆             ┆             │\n",
       "│ 2023-04 ┆ 109865.84842 ┆ 885          ┆ 14184.81582  ┆ … ┆ 144.356328  ┆ 3.395462    ┆ 299         ┆ 2972        │\n",
       "│ 2023-05 ┆ 65601.864044 ┆ 691          ┆ 18764.339456 ┆ … ┆ 275.734601  ┆ 3.77914     ┆ 296         ┆ 3768        │\n",
       "└─────────┴──────────────┴──────────────┴──────────────┴───┴─────────────┴─────────────┴─────────────┴─────────────┘"
      ]
     },
     "metadata": {},
     "output_type": "display_data"
    }
   ],
   "source": [
    "from metric_forge.ecommerce import * \n",
    "import polars as pl\n",
    "data = pl.read_csv('datasets/ecommerce_metrics.csv')\n",
    "data.head()"
   ]
  },
  {
   "cell_type": "markdown",
   "metadata": {},
   "source": [
    "#### Customer Acquisition Cost"
   ]
  },
  {
   "cell_type": "code",
   "execution_count": null,
   "metadata": {},
   "outputs": [
    {
     "data": {
      "text/html": [
       "<div><style>\n",
       ".dataframe > thead > tr,\n",
       ".dataframe > tbody > tr {\n",
       "  text-align: right;\n",
       "  white-space: pre-wrap;\n",
       "}\n",
       "</style>\n",
       "<small>shape: (12, 3)</small><table border=\"1\" class=\"dataframe\"><thead><tr><th>cost_of_acquisition</th><th>new_customers</th><th>customer_acquisition_cost</th></tr><tr><td>f64</td><td>i64</td><td>f64</td></tr></thead><tbody><tr><td>22958.350559</td><td>406</td><td>56.547661</td></tr><tr><td>18736.874206</td><td>234</td><td>80.072112</td></tr><tr><td>28355.586842</td><td>120</td><td>236.296557</td></tr><tr><td>14184.81582</td><td>428</td><td>33.142093</td></tr><tr><td>18764.339456</td><td>266</td><td>70.54263</td></tr><tr><td>&hellip;</td><td>&hellip;</td><td>&hellip;</td></tr><tr><td>33555.278842</td><td>188</td><td>178.485526</td></tr><tr><td>15990.213465</td><td>415</td><td>38.530635</td></tr><tr><td>25427.033152</td><td>113</td><td>225.017992</td></tr><tr><td>27772.437066</td><td>341</td><td>81.444097</td></tr><tr><td>11393.512382</td><td>364</td><td>31.300858</td></tr></tbody></table></div>"
      ],
      "text/plain": [
       "shape: (12, 3)\n",
       "┌─────────────────────┬───────────────┬───────────────────────────┐\n",
       "│ cost_of_acquisition ┆ new_customers ┆ customer_acquisition_cost │\n",
       "│ ---                 ┆ ---           ┆ ---                       │\n",
       "│ f64                 ┆ i64           ┆ f64                       │\n",
       "╞═════════════════════╪═══════════════╪═══════════════════════════╡\n",
       "│ 22958.350559        ┆ 406           ┆ 56.547661                 │\n",
       "│ 18736.874206        ┆ 234           ┆ 80.072112                 │\n",
       "│ 28355.586842        ┆ 120           ┆ 236.296557                │\n",
       "│ 14184.81582         ┆ 428           ┆ 33.142093                 │\n",
       "│ 18764.339456        ┆ 266           ┆ 70.54263                  │\n",
       "│ …                   ┆ …             ┆ …                         │\n",
       "│ 33555.278842        ┆ 188           ┆ 178.485526                │\n",
       "│ 15990.213465        ┆ 415           ┆ 38.530635                 │\n",
       "│ 25427.033152        ┆ 113           ┆ 225.017992                │\n",
       "│ 27772.437066        ┆ 341           ┆ 81.444097                 │\n",
       "│ 11393.512382        ┆ 364           ┆ 31.300858                 │\n",
       "└─────────────────────┴───────────────┴───────────────────────────┘"
      ]
     },
     "metadata": {},
     "output_type": "display_data"
    }
   ],
   "source": [
    "data.select(pl.col('cost_of_acquisition'),\n",
    "            pl.col('new_customers'),\n",
    "            pl.col('*').forge_ecommerce.customer_acquisition_cost('cost_of_acquisition', 'new_customers'))"
   ]
  },
  {
   "cell_type": "markdown",
   "metadata": {},
   "source": [
    "#### Average Order Value"
   ]
  },
  {
   "cell_type": "code",
   "execution_count": null,
   "metadata": {},
   "outputs": [
    {
     "data": {
      "text/html": [
       "<div><style>\n",
       ".dataframe > thead > tr,\n",
       ".dataframe > tbody > tr {\n",
       "  text-align: right;\n",
       "  white-space: pre-wrap;\n",
       "}\n",
       "</style>\n",
       "<small>shape: (12, 3)</small><table border=\"1\" class=\"dataframe\"><thead><tr><th>total_revenue</th><th>new_customers</th><th>average_order_value</th></tr><tr><td>f64</td><td>i64</td><td>f64</td></tr></thead><tbody><tr><td>87454.011885</td><td>406</td><td>88.248246</td></tr><tr><td>145071.430641</td><td>234</td><td>158.895324</td></tr><tr><td>123199.394181</td><td>120</td><td>94.405666</td></tr><tr><td>109865.84842</td><td>428</td><td>124.142202</td></tr><tr><td>65601.864044</td><td>266</td><td>94.937575</td></tr><tr><td>&hellip;</td><td>&hellip;</td><td>&hellip;</td></tr><tr><td>136617.614577</td><td>188</td><td>206.996386</td></tr><tr><td>110111.501174</td><td>415</td><td>114.819084</td></tr><tr><td>120807.25778</td><td>113</td><td>148.594413</td></tr><tr><td>52058.44943</td><td>341</td><td>99.920248</td></tr><tr><td>146990.985216</td><td>364</td><td>195.466736</td></tr></tbody></table></div>"
      ],
      "text/plain": [
       "shape: (12, 3)\n",
       "┌───────────────┬───────────────┬─────────────────────┐\n",
       "│ total_revenue ┆ new_customers ┆ average_order_value │\n",
       "│ ---           ┆ ---           ┆ ---                 │\n",
       "│ f64           ┆ i64           ┆ f64                 │\n",
       "╞═══════════════╪═══════════════╪═════════════════════╡\n",
       "│ 87454.011885  ┆ 406           ┆ 88.248246           │\n",
       "│ 145071.430641 ┆ 234           ┆ 158.895324          │\n",
       "│ 123199.394181 ┆ 120           ┆ 94.405666           │\n",
       "│ 109865.84842  ┆ 428           ┆ 124.142202          │\n",
       "│ 65601.864044  ┆ 266           ┆ 94.937575           │\n",
       "│ …             ┆ …             ┆ …                   │\n",
       "│ 136617.614577 ┆ 188           ┆ 206.996386          │\n",
       "│ 110111.501174 ┆ 415           ┆ 114.819084          │\n",
       "│ 120807.25778  ┆ 113           ┆ 148.594413          │\n",
       "│ 52058.44943   ┆ 341           ┆ 99.920248           │\n",
       "│ 146990.985216 ┆ 364           ┆ 195.466736          │\n",
       "└───────────────┴───────────────┴─────────────────────┘"
      ]
     },
     "metadata": {},
     "output_type": "display_data"
    }
   ],
   "source": [
    "data.select(pl.col('total_revenue'),\n",
    "            pl.col('new_customers'),\n",
    "            pl.col('*').forge_ecommerce.average_order_value('total_revenue', 'number_of_orders'))"
   ]
  },
  {
   "cell_type": "markdown",
   "metadata": {},
   "source": [
    "#### Cart Abandonment Rate"
   ]
  },
  {
   "cell_type": "code",
   "execution_count": null,
   "metadata": {},
   "outputs": [
    {
     "data": {
      "text/html": [
       "<div><style>\n",
       ".dataframe > thead > tr,\n",
       ".dataframe > tbody > tr {\n",
       "  text-align: right;\n",
       "  white-space: pre-wrap;\n",
       "}\n",
       "</style>\n",
       "<small>shape: (12, 3)</small><table border=\"1\" class=\"dataframe\"><thead><tr><th>carts_created</th><th>completed_purchases</th><th>cart_abandonment_rate</th></tr><tr><td>i64</td><td>i64</td><td>f64</td></tr></thead><tbody><tr><td>1969</td><td>1425</td><td>27.628238</td></tr><tr><td>1506</td><td>1421</td><td>5.64409</td></tr><tr><td>1497</td><td>965</td><td>35.537742</td></tr><tr><td>1963</td><td>1102</td><td>43.861437</td></tr><tr><td>1009</td><td>801</td><td>20.61447</td></tr><tr><td>&hellip;</td><td>&hellip;</td><td>&hellip;</td></tr><tr><td>1108</td><td>601</td><td>45.758123</td></tr><tr><td>1975</td><td>1395</td><td>29.367089</td></tr><tr><td>800</td><td>669</td><td>16.375</td></tr><tr><td>2005</td><td>1215</td><td>39.401496</td></tr><tr><td>1704</td><td>855</td><td>49.823944</td></tr></tbody></table></div>"
      ],
      "text/plain": [
       "shape: (12, 3)\n",
       "┌───────────────┬─────────────────────┬───────────────────────┐\n",
       "│ carts_created ┆ completed_purchases ┆ cart_abandonment_rate │\n",
       "│ ---           ┆ ---                 ┆ ---                   │\n",
       "│ i64           ┆ i64                 ┆ f64                   │\n",
       "╞═══════════════╪═════════════════════╪═══════════════════════╡\n",
       "│ 1969          ┆ 1425                ┆ 27.628238             │\n",
       "│ 1506          ┆ 1421                ┆ 5.64409               │\n",
       "│ 1497          ┆ 965                 ┆ 35.537742             │\n",
       "│ 1963          ┆ 1102                ┆ 43.861437             │\n",
       "│ 1009          ┆ 801                 ┆ 20.61447              │\n",
       "│ …             ┆ …                   ┆ …                     │\n",
       "│ 1108          ┆ 601                 ┆ 45.758123             │\n",
       "│ 1975          ┆ 1395                ┆ 29.367089             │\n",
       "│ 800           ┆ 669                 ┆ 16.375                │\n",
       "│ 2005          ┆ 1215                ┆ 39.401496             │\n",
       "│ 1704          ┆ 855                 ┆ 49.823944             │\n",
       "└───────────────┴─────────────────────┴───────────────────────┘"
      ]
     },
     "metadata": {},
     "output_type": "display_data"
    }
   ],
   "source": [
    "data.select(pl.col('carts_created'),\n",
    "            pl.col('completed_purchases'),\n",
    "            pl.col('*').forge_ecommerce.cart_abandonment_rate('carts_created', 'completed_purchases'))\n"
   ]
  },
  {
   "cell_type": "markdown",
   "metadata": {},
   "source": [
    "#### Return on Advertising Spend"
   ]
  },
  {
   "cell_type": "code",
   "execution_count": null,
   "metadata": {},
   "outputs": [
    {
     "data": {
      "text/html": [
       "<div><style>\n",
       ".dataframe > thead > tr,\n",
       ".dataframe > tbody > tr {\n",
       "  text-align: right;\n",
       "  white-space: pre-wrap;\n",
       "}\n",
       "</style>\n",
       "<small>shape: (12, 3)</small><table border=\"1\" class=\"dataframe\"><thead><tr><th>revenue_from_ads</th><th>advertising_spend</th><th>return_on_advertising_spend</th></tr><tr><td>f64</td><td>f64</td><td>f64</td></tr></thead><tbody><tr><td>81339.957696</td><td>5390.910169</td><td>15.088353</td></tr><tr><td>76875.083402</td><td>15585.037018</td><td>4.932621</td></tr><tr><td>116505.482191</td><td>14872.037954</td><td>7.833861</td></tr><tr><td>106008.046381</td><td>12337.204368</td><td>8.59255</td></tr><tr><td>97258.809912</td><td>5351.995568</td><td>18.172438</td></tr><tr><td>&hellip;</td><td>&hellip;</td><td>&hellip;</td></tr><tr><td>116872.977654</td><td>24754.388513</td><td>4.721303</td></tr><tr><td>84633.082292</td><td>20148.99937</td><td>4.200362</td></tr><tr><td>54839.926382</td><td>28157.521963</td><td>1.947612</td></tr><tr><td>56664.615513</td><td>21276.925638</td><td>2.663196</td></tr><tr><td>44874.024516</td><td>27873.991889</td><td>1.609889</td></tr></tbody></table></div>"
      ],
      "text/plain": [
       "shape: (12, 3)\n",
       "┌──────────────────┬───────────────────┬─────────────────────────────┐\n",
       "│ revenue_from_ads ┆ advertising_spend ┆ return_on_advertising_spend │\n",
       "│ ---              ┆ ---               ┆ ---                         │\n",
       "│ f64              ┆ f64               ┆ f64                         │\n",
       "╞══════════════════╪═══════════════════╪═════════════════════════════╡\n",
       "│ 81339.957696     ┆ 5390.910169       ┆ 15.088353                   │\n",
       "│ 76875.083402     ┆ 15585.037018      ┆ 4.932621                    │\n",
       "│ 116505.482191    ┆ 14872.037954      ┆ 7.833861                    │\n",
       "│ 106008.046381    ┆ 12337.204368      ┆ 8.59255                     │\n",
       "│ 97258.809912     ┆ 5351.995568       ┆ 18.172438                   │\n",
       "│ …                ┆ …                 ┆ …                           │\n",
       "│ 116872.977654    ┆ 24754.388513      ┆ 4.721303                    │\n",
       "│ 84633.082292     ┆ 20148.99937       ┆ 4.200362                    │\n",
       "│ 54839.926382     ┆ 28157.521963      ┆ 1.947612                    │\n",
       "│ 56664.615513     ┆ 21276.925638      ┆ 2.663196                    │\n",
       "│ 44874.024516     ┆ 27873.991889      ┆ 1.609889                    │\n",
       "└──────────────────┴───────────────────┴─────────────────────────────┘"
      ]
     },
     "metadata": {},
     "output_type": "display_data"
    }
   ],
   "source": [
    "data.select(pl.col('revenue_from_ads'),\n",
    "            pl.col('advertising_spend'),\n",
    "            pl.col('*').forge_ecommerce.return_on_advertising_spend('revenue_from_ads', 'advertising_spend'))"
   ]
  },
  {
   "cell_type": "markdown",
   "metadata": {},
   "source": [
    "#### Conversion Rate"
   ]
  },
  {
   "cell_type": "code",
   "execution_count": null,
   "metadata": {},
   "outputs": [
    {
     "data": {
      "text/html": [
       "<div><style>\n",
       ".dataframe > thead > tr,\n",
       ".dataframe > tbody > tr {\n",
       "  text-align: right;\n",
       "  white-space: pre-wrap;\n",
       "}\n",
       "</style>\n",
       "<small>shape: (12, 3)</small><table border=\"1\" class=\"dataframe\"><thead><tr><th>num_conversions</th><th>num_visitors</th><th>conversion_rate</th></tr><tr><td>i64</td><td>i64</td><td>f64</td></tr></thead><tbody><tr><td>300</td><td>13154</td><td>2.280675</td></tr><tr><td>427</td><td>14762</td><td>2.892562</td></tr><tr><td>367</td><td>10056</td><td>3.649562</td></tr><tr><td>132</td><td>19948</td><td>0.66172</td></tr><tr><td>147</td><td>13110</td><td>1.121281</td></tr><tr><td>&hellip;</td><td>&hellip;</td><td>&hellip;</td></tr><tr><td>392</td><td>8840</td><td>4.434389</td></tr><tr><td>198</td><td>6028</td><td>3.284672</td></tr><tr><td>271</td><td>12385</td><td>2.188131</td></tr><tr><td>459</td><td>5502</td><td>8.342421</td></tr><tr><td>313</td><td>11910</td><td>2.628044</td></tr></tbody></table></div>"
      ],
      "text/plain": [
       "shape: (12, 3)\n",
       "┌─────────────────┬──────────────┬─────────────────┐\n",
       "│ num_conversions ┆ num_visitors ┆ conversion_rate │\n",
       "│ ---             ┆ ---          ┆ ---             │\n",
       "│ i64             ┆ i64          ┆ f64             │\n",
       "╞═════════════════╪══════════════╪═════════════════╡\n",
       "│ 300             ┆ 13154        ┆ 2.280675        │\n",
       "│ 427             ┆ 14762        ┆ 2.892562        │\n",
       "│ 367             ┆ 10056        ┆ 3.649562        │\n",
       "│ 132             ┆ 19948        ┆ 0.66172         │\n",
       "│ 147             ┆ 13110        ┆ 1.121281        │\n",
       "│ …               ┆ …            ┆ …               │\n",
       "│ 392             ┆ 8840         ┆ 4.434389        │\n",
       "│ 198             ┆ 6028         ┆ 3.284672        │\n",
       "│ 271             ┆ 12385        ┆ 2.188131        │\n",
       "│ 459             ┆ 5502         ┆ 8.342421        │\n",
       "│ 313             ┆ 11910        ┆ 2.628044        │\n",
       "└─────────────────┴──────────────┴─────────────────┘"
      ]
     },
     "metadata": {},
     "output_type": "display_data"
    }
   ],
   "source": [
    "data.select(pl.col('num_conversions'),\n",
    "            pl.col('num_visitors'),\n",
    "            pl.col('*').forge_ecommerce.conversion_rate('num_conversions', 'num_visitors'))"
   ]
  },
  {
   "cell_type": "markdown",
   "metadata": {},
   "source": [
    "#### Customer Lifetime Value"
   ]
  },
  {
   "cell_type": "code",
   "execution_count": null,
   "metadata": {},
   "outputs": [
    {
     "data": {
      "text/html": [
       "<div><style>\n",
       ".dataframe > thead > tr,\n",
       ".dataframe > tbody > tr {\n",
       "  text-align: right;\n",
       "  white-space: pre-wrap;\n",
       "}\n",
       "</style>\n",
       "<small>shape: (12, 3)</small><table border=\"1\" class=\"dataframe\"><thead><tr><th>revenue_per_customer</th><th>average_customer_lifetime</th><th>customer_lifetime_value</th></tr><tr><td>f64</td><td>f64</td><td>f64</td></tr></thead><tbody><tr><td>202.427329</td><td>3.159364</td><td>639.54169</td></tr><tr><td>116.173436</td><td>1.812245</td><td>210.534716</td></tr><tr><td>384.265156</td><td>4.771414</td><td>1833.488253</td></tr><tr><td>144.356328</td><td>3.395462</td><td>490.156408</td></tr><tr><td>275.734601</td><td>3.77914</td><td>1042.039585</td></tr><tr><td>&hellip;</td><td>&hellip;</td><td>&hellip;</td></tr><tr><td>290.148089</td><td>2.182535</td><td>633.258286</td></tr><tr><td>325.310229</td><td>1.421977</td><td>462.583676</td></tr><tr><td>378.206435</td><td>2.826138</td><td>1068.863683</td></tr><tr><td>155.732582</td><td>1.873762</td><td>291.805755</td></tr><tr><td>341.766952</td><td>2.66604</td><td>911.164293</td></tr></tbody></table></div>"
      ],
      "text/plain": [
       "shape: (12, 3)\n",
       "┌──────────────────────┬───────────────────────────┬─────────────────────────┐\n",
       "│ revenue_per_customer ┆ average_customer_lifetime ┆ customer_lifetime_value │\n",
       "│ ---                  ┆ ---                       ┆ ---                     │\n",
       "│ f64                  ┆ f64                       ┆ f64                     │\n",
       "╞══════════════════════╪═══════════════════════════╪═════════════════════════╡\n",
       "│ 202.427329           ┆ 3.159364                  ┆ 639.54169               │\n",
       "│ 116.173436           ┆ 1.812245                  ┆ 210.534716              │\n",
       "│ 384.265156           ┆ 4.771414                  ┆ 1833.488253             │\n",
       "│ 144.356328           ┆ 3.395462                  ┆ 490.156408              │\n",
       "│ 275.734601           ┆ 3.77914                   ┆ 1042.039585             │\n",
       "│ …                    ┆ …                         ┆ …                       │\n",
       "│ 290.148089           ┆ 2.182535                  ┆ 633.258286              │\n",
       "│ 325.310229           ┆ 1.421977                  ┆ 462.583676              │\n",
       "│ 378.206435           ┆ 2.826138                  ┆ 1068.863683             │\n",
       "│ 155.732582           ┆ 1.873762                  ┆ 291.805755              │\n",
       "│ 341.766952           ┆ 2.66604                   ┆ 911.164293              │\n",
       "└──────────────────────┴───────────────────────────┴─────────────────────────┘"
      ]
     },
     "metadata": {},
     "output_type": "display_data"
    }
   ],
   "source": [
    "data.select(pl.col('revenue_per_customer'),\n",
    "            pl.col('average_customer_lifetime'),\n",
    "            pl.col('*').forge_ecommerce.customer_lifetime_value(revenue_per_customer_column='revenue_per_customer',average_customer_lifetime_column='average_customer_lifetime',method='basic'))"
   ]
  }
 ],
 "metadata": {
  "language_info": {
   "name": "python"
  }
 },
 "nbformat": 4,
 "nbformat_minor": 2
}
