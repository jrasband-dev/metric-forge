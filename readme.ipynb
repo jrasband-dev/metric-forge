{
 "cells": [
  {
   "cell_type": "markdown",
   "metadata": {},
   "source": [
    "# Metric Forge\n",
    "\n",
    "<img src=\"static/MetricForge.png\" alt=\"Description of the image\" width=\"300\" height=\"300\">\n",
    "\n",
    "Metric Forge is your ultimate toolkit for measuring and evaluating performance across various business domains.\n"
   ]
  },
  {
   "cell_type": "markdown",
   "metadata": {},
   "source": [
    "## Product Development\n",
    "### Underserved Customer Needs"
   ]
  },
  {
   "cell_type": "code",
   "execution_count": 1,
   "metadata": {},
   "outputs": [
    {
     "data": {
      "text/html": [
       "<div><style>\n",
       ".dataframe > thead > tr,\n",
       ".dataframe > tbody > tr {\n",
       "  text-align: right;\n",
       "  white-space: pre-wrap;\n",
       "}\n",
       "</style>\n",
       "<small>shape: (10, 3)</small><table border=\"1\" class=\"dataframe\"><thead><tr><th>feature_name</th><th>importance_score</th><th>satisfaction_score</th></tr><tr><td>str</td><td>i64</td><td>i64</td></tr></thead><tbody><tr><td>&quot;Feature1&quot;</td><td>8</td><td>7</td></tr><tr><td>&quot;Feature2&quot;</td><td>6</td><td>8</td></tr><tr><td>&quot;Feature3&quot;</td><td>7</td><td>9</td></tr><tr><td>&quot;Feature4&quot;</td><td>8</td><td>7</td></tr><tr><td>&quot;Feature5&quot;</td><td>6</td><td>6</td></tr><tr><td>&quot;Feature6&quot;</td><td>9</td><td>8</td></tr><tr><td>&quot;Feature7&quot;</td><td>7</td><td>9</td></tr><tr><td>&quot;Feature8&quot;</td><td>6</td><td>7</td></tr><tr><td>&quot;Feature9&quot;</td><td>9</td><td>8</td></tr><tr><td>&quot;Feature10&quot;</td><td>8</td><td>7</td></tr></tbody></table></div>"
      ],
      "text/plain": [
       "shape: (10, 3)\n",
       "┌──────────────┬──────────────────┬────────────────────┐\n",
       "│ feature_name ┆ importance_score ┆ satisfaction_score │\n",
       "│ ---          ┆ ---              ┆ ---                │\n",
       "│ str          ┆ i64              ┆ i64                │\n",
       "╞══════════════╪══════════════════╪════════════════════╡\n",
       "│ Feature1     ┆ 8                ┆ 7                  │\n",
       "│ Feature2     ┆ 6                ┆ 8                  │\n",
       "│ Feature3     ┆ 7                ┆ 9                  │\n",
       "│ Feature4     ┆ 8                ┆ 7                  │\n",
       "│ Feature5     ┆ 6                ┆ 6                  │\n",
       "│ Feature6     ┆ 9                ┆ 8                  │\n",
       "│ Feature7     ┆ 7                ┆ 9                  │\n",
       "│ Feature8     ┆ 6                ┆ 7                  │\n",
       "│ Feature9     ┆ 9                ┆ 8                  │\n",
       "│ Feature10    ┆ 8                ┆ 7                  │\n",
       "└──────────────┴──────────────────┴────────────────────┘"
      ]
     },
     "execution_count": 1,
     "metadata": {},
     "output_type": "execute_result"
    }
   ],
   "source": [
    "import polars as pl\n",
    "data = pl.read_csv('datasets/customer-value.csv')\n",
    "data"
   ]
  },
  {
   "cell_type": "code",
   "execution_count": 2,
   "metadata": {},
   "outputs": [
    {
     "data": {
      "text/html": [
       "<div><style>\n",
       ".dataframe > thead > tr,\n",
       ".dataframe > tbody > tr {\n",
       "  text-align: right;\n",
       "  white-space: pre-wrap;\n",
       "}\n",
       "</style>\n",
       "<small>shape: (10, 4)</small><table border=\"1\" class=\"dataframe\"><thead><tr><th>feature_name</th><th>importance_score</th><th>satisfaction_score</th><th>opportunity_score</th></tr><tr><td>str</td><td>i64</td><td>i64</td><td>i64</td></tr></thead><tbody><tr><td>&quot;Feature1&quot;</td><td>8</td><td>7</td><td>9</td></tr><tr><td>&quot;Feature2&quot;</td><td>6</td><td>8</td><td>6</td></tr><tr><td>&quot;Feature3&quot;</td><td>7</td><td>9</td><td>7</td></tr><tr><td>&quot;Feature4&quot;</td><td>8</td><td>7</td><td>9</td></tr><tr><td>&quot;Feature5&quot;</td><td>6</td><td>6</td><td>6</td></tr><tr><td>&quot;Feature6&quot;</td><td>9</td><td>8</td><td>10</td></tr><tr><td>&quot;Feature7&quot;</td><td>7</td><td>9</td><td>7</td></tr><tr><td>&quot;Feature8&quot;</td><td>6</td><td>7</td><td>6</td></tr><tr><td>&quot;Feature9&quot;</td><td>9</td><td>8</td><td>10</td></tr><tr><td>&quot;Feature10&quot;</td><td>8</td><td>7</td><td>9</td></tr></tbody></table></div>"
      ],
      "text/plain": [
       "shape: (10, 4)\n",
       "┌──────────────┬──────────────────┬────────────────────┬───────────────────┐\n",
       "│ feature_name ┆ importance_score ┆ satisfaction_score ┆ opportunity_score │\n",
       "│ ---          ┆ ---              ┆ ---                ┆ ---               │\n",
       "│ str          ┆ i64              ┆ i64                ┆ i64               │\n",
       "╞══════════════╪══════════════════╪════════════════════╪═══════════════════╡\n",
       "│ Feature1     ┆ 8                ┆ 7                  ┆ 9                 │\n",
       "│ Feature2     ┆ 6                ┆ 8                  ┆ 6                 │\n",
       "│ Feature3     ┆ 7                ┆ 9                  ┆ 7                 │\n",
       "│ Feature4     ┆ 8                ┆ 7                  ┆ 9                 │\n",
       "│ Feature5     ┆ 6                ┆ 6                  ┆ 6                 │\n",
       "│ Feature6     ┆ 9                ┆ 8                  ┆ 10                │\n",
       "│ Feature7     ┆ 7                ┆ 9                  ┆ 7                 │\n",
       "│ Feature8     ┆ 6                ┆ 7                  ┆ 6                 │\n",
       "│ Feature9     ┆ 9                ┆ 8                  ┆ 10                │\n",
       "│ Feature10    ┆ 8                ┆ 7                  ┆ 9                 │\n",
       "└──────────────┴──────────────────┴────────────────────┴───────────────────┘"
      ]
     },
     "execution_count": 2,
     "metadata": {},
     "output_type": "execute_result"
    }
   ],
   "source": [
    "from metric_forge.product_development.core import *\n",
    "\n",
    "opportunity_score(data, importance_col='importance_score',satisfaction_col='satisfaction_score')"
   ]
  },
  {
   "cell_type": "code",
   "execution_count": null,
   "metadata": {},
   "outputs": [],
   "source": [
    "from metric_forge.product_development.core import *\n",
    "\n",
    "customer_value_delivered(data, importance_col='importance_score',satisfaction_col='satisfaction_score')\n"
   ]
  },
  {
   "cell_type": "code",
   "execution_count": null,
   "metadata": {},
   "outputs": [],
   "source": [
    "opportunity_to_add_value(data, importance_col='importance_score',satisfaction_col='satisfaction_score')\n"
   ]
  },
  {
   "cell_type": "code",
   "execution_count": null,
   "metadata": {},
   "outputs": [],
   "source": [
    "import polars as pl\n",
    "data = pl.read_csv('datasets/customer-value-added.csv')\n",
    "data"
   ]
  },
  {
   "cell_type": "code",
   "execution_count": null,
   "metadata": {},
   "outputs": [],
   "source": [
    "customer_value_created(data\n",
    "                       ,importance_col='importance_score'\n",
    "                       ,satisfaction_after_col='satisfaction_score_after'\n",
    "                       ,satisfaction_before_col='satisfaction_score_before')"
   ]
  },
  {
   "cell_type": "markdown",
   "metadata": {},
   "source": [
    "## Marketing\n",
    "\n",
    "### Customer Aqcuisition Cost"
   ]
  },
  {
   "cell_type": "code",
   "execution_count": null,
   "metadata": {},
   "outputs": [],
   "source": [
    "from math_forge.marketing.core import *\n",
    "import polars as pl\n",
    "\n",
    "data = pl.read_csv('datasets/customer-aquisition.csv')\n",
    "new_data = cac(data,cost_column='total_marketing_costs',customers_column='new_customers_acquired')\n",
    "new_data"
   ]
  },
  {
   "cell_type": "code",
   "execution_count": null,
   "metadata": {},
   "outputs": [],
   "source": []
  }
 ],
 "metadata": {
  "kernelspec": {
   "display_name": "venv-dev",
   "language": "python",
   "name": "python3"
  },
  "language_info": {
   "codemirror_mode": {
    "name": "ipython",
    "version": 3
   },
   "file_extension": ".py",
   "mimetype": "text/x-python",
   "name": "python",
   "nbconvert_exporter": "python",
   "pygments_lexer": "ipython3",
   "version": "3.11.4"
  }
 },
 "nbformat": 4,
 "nbformat_minor": 2
}
