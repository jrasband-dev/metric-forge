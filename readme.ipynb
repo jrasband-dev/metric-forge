{
 "cells": [
  {
   "cell_type": "markdown",
   "metadata": {},
   "source": [
    "# Metric Forge\n",
    "\n",
    "<img src=\"static/MetricForge.png\" alt=\"Description of the image\" width=\"300\" height=\"300\">\n",
    "\n",
    "Metric Forge is your ultimate toolkit for measuring and evaluating performance across various business domains.\n"
   ]
  },
  {
   "cell_type": "markdown",
   "metadata": {},
   "source": [
    "## Marketing\n",
    "\n",
    "### Customer Aqcuisition Cost"
   ]
  },
  {
   "cell_type": "code",
   "execution_count": 3,
   "metadata": {},
   "outputs": [
    {
     "data": {
      "text/html": [
       "<div><style>\n",
       ".dataframe > thead > tr,\n",
       ".dataframe > tbody > tr {\n",
       "  text-align: right;\n",
       "  white-space: pre-wrap;\n",
       "}\n",
       "</style>\n",
       "<small>shape: (3, 4)</small><table border=\"1\" class=\"dataframe\"><thead><tr><th>date</th><th>total_marketing_costs</th><th>new_customers_acquired</th><th>CAC</th></tr><tr><td>str</td><td>i64</td><td>i64</td><td>f64</td></tr></thead><tbody><tr><td>&quot;2024-01-01&quot;</td><td>5000</td><td>100</td><td>50.0</td></tr><tr><td>&quot;2024-02-01&quot;</td><td>7000</td><td>150</td><td>46.666667</td></tr><tr><td>&quot;2024-03-01&quot;</td><td>6000</td><td>120</td><td>50.0</td></tr></tbody></table></div>"
      ],
      "text/plain": [
       "shape: (3, 4)\n",
       "┌────────────┬───────────────────────┬────────────────────────┬───────────┐\n",
       "│ date       ┆ total_marketing_costs ┆ new_customers_acquired ┆ CAC       │\n",
       "│ ---        ┆ ---                   ┆ ---                    ┆ ---       │\n",
       "│ str        ┆ i64                   ┆ i64                    ┆ f64       │\n",
       "╞════════════╪═══════════════════════╪════════════════════════╪═══════════╡\n",
       "│ 2024-01-01 ┆ 5000                  ┆ 100                    ┆ 50.0      │\n",
       "│ 2024-02-01 ┆ 7000                  ┆ 150                    ┆ 46.666667 │\n",
       "│ 2024-03-01 ┆ 6000                  ┆ 120                    ┆ 50.0      │\n",
       "└────────────┴───────────────────────┴────────────────────────┴───────────┘"
      ]
     },
     "execution_count": 3,
     "metadata": {},
     "output_type": "execute_result"
    }
   ],
   "source": [
    "from math_forge.marketing.core import *\n",
    "import polars as pl\n",
    "\n",
    "data = pl.read_csv('datasets/customer-aquisition.csv')\n",
    "new_data = cac(data,cost_column='total_marketing_costs',customers_column='new_customers_acquired')\n",
    "new_data"
   ]
  },
  {
   "cell_type": "code",
   "execution_count": null,
   "metadata": {},
   "outputs": [],
   "source": []
  }
 ],
 "metadata": {
  "kernelspec": {
   "display_name": "venv-dev",
   "language": "python",
   "name": "python3"
  },
  "language_info": {
   "codemirror_mode": {
    "name": "ipython",
    "version": 3
   },
   "file_extension": ".py",
   "mimetype": "text/x-python",
   "name": "python",
   "nbconvert_exporter": "python",
   "pygments_lexer": "ipython3",
   "version": "3.11.4"
  }
 },
 "nbformat": 4,
 "nbformat_minor": 2
}
